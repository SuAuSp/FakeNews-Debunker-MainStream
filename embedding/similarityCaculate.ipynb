{
 "cells": [
  {
   "cell_type": "code",
   "execution_count": 4,
   "metadata": {},
   "outputs": [],
   "source": [
    "import os\n",
    "# 为 jupter notebook 设置系统代理\n",
    "# 否则可能无法连接到huggingface\n",
    "proxy = 'http://192.168.50.182:7890'\n",
    "os.environ['http_proxy'] = proxy\n",
    "os.environ['HTTP_PROXY'] = proxy\n",
    "os.environ['https_proxy'] = proxy\n",
    "os.environ['HTTPS_PROXY'] = proxy"
   ]
  },
  {
   "cell_type": "code",
   "execution_count": 5,
   "metadata": {},
   "outputs": [],
   "source": [
    "from sentence_transformers import SentenceTransformer  # https://www.sbert.net/\n",
    "import numpy as np\n",
    "\n",
    "# 使用时会自动下载所需要的模型.  \n",
    "# https://huggingface.co/BAAI/bge-large-en-v1.5\n",
    "model = SentenceTransformer('BAAI/bge-large-en-v1.5')\n",
    "\n",
    "def embedding(texts: list[str]) -> np.ndarray:\n",
    "    \"\"\"\n",
    "    embedding获得text的list,\n",
    "    并将每一个text进行embedding操作,\n",
    "    返回每一个text的embedding结果.\n",
    "    \"\"\"\n",
    "    embeddings = model.encode(texts, normalize_embeddings=True)\n",
    "    return embeddings\n",
    "\n",
    "def calculateSimilarity(a:np.ndarray, b:np.ndarray) -> np.ndarray:\n",
    "    \"\"\"\n",
    "    计算两个embedding结果之间的相似度,以ndarray的形式输入,返回一个矩阵,表明其之间的相似度\n",
    "    \"\"\"\n",
    "    return a @ b.T"
   ]
  },
  {
   "cell_type": "code",
   "execution_count": 6,
   "metadata": {},
   "outputs": [
    {
     "name": "stdout",
     "output_type": "stream",
     "text": [
      "[[ 0.0156503   0.03648347  0.01993614 ... -0.00103826 -0.00561563\n",
      "  -0.03185157]\n",
      " [ 0.00716446  0.04983097  0.04704388 ... -0.0212795  -0.00602324\n",
      "  -0.01915275]]\n",
      "[[0.8282864 0.833615 ]\n",
      " [0.8557756 0.8541577]]\n"
     ]
    }
   ],
   "source": [
    "# 测试样例.\n",
    "# 在python 3.9.18 版本上能够成功使用.\n",
    "text1 = ['sample1', 'sample2']\n",
    "text2 = ['sample3', 'sample4']\n",
    "embedding1 = embedding(text1)\n",
    "embedding2 = embedding(text2)\n",
    "print(embedding1)\n",
    "print(embedding1 @ embedding2.T)"
   ]
  },
  {
   "cell_type": "code",
   "execution_count": 8,
   "metadata": {},
   "outputs": [],
   "source": [
    "# 取出top点的text内容\n",
    "top_text = \"LIVE FACT-CHECK: Clinton is right, Trump encouraged Japan to get a nuclear weapon. Mostly true.\"\n",
    "\n",
    "top_extra_text = \"\"\"\n",
    "Hillary Clinton says Donald Trump argued U.S. should 'encourage' Japan to get nuclear weapons\n",
    "During a high-profile foreign policy speech, Democratic presidential candidate Hillary Clinton repeated a series of past statements by Donald Trump to show that her Republican rival poses risks for international relations.\n",
    "\n",
    "One of these past statements by Trump involved whether Japan should become a nuclear-armed state.\n",
    "\"It's no small thing when he suggests that America should withdraw our military support for Japan, encourage them to get nuclear weapons,\" Clinton said in her June 2, 2016, speech. \n",
    "\n",
    "Is Clinton correct that Trump encouraged Japan to get nuclear weapons?\n",
    "\n",
    "What Trump has said\n",
    "\n",
    "As we noted earlier, Clinton’s evidence includes interviews and comments Trump has made on the campaign trail.\n",
    "\n",
    "When Trump sat for a March 26 interview with the New York Times, he was asked directly, \"Would you object if (Japan) got their own nuclear arsenal, given the threat that they face from North Korea and China?\"\n",
    "\n",
    "Trump responded in part, \"There’ll be a point at which we’re just not going to be able to do it anymore. Now, does that mean nuclear? It could mean nuclear. It’s a very scary nuclear world. Biggest problem, to me, in the world, is nuclear, and proliferation. At the same time, you know, we’re a country that doesn’t have money.\"\n",
    "\n",
    "Let’s set aside Trump’s internal inconsistency -- saying that Japan might need nuclear weapons, and then, just seconds later, saying that the world’s \"biggest problem\" is nuclear proliferation.\n",
    "\n",
    "If you read his words closely, Trump didn’t quite say he was encouraging Japan to get nuclear weapons, but he did go right up to the line. He was leaving the option on the table.\n",
    "\n",
    "Having seen Trump’s comments to the New York Times, CNN’s Anderson Cooper asked him about it in a CNN town hall in Milwaukee on March 29.\n",
    "\n",
    "Answering Cooper’s question about breaking with Japan’s non-nuclear stance, Trump said, \"At some point we have to say, you know what, we're better off if Japan protects itself against this maniac in North Korea.\"\n",
    "\n",
    "In fact, during the town hall, Cooper gave Trump multiple opportunities to back off his suggestion that Japan may need nuclear weapons, but Trump never did. He said, in succession, \"maybe it's going to have to be time to change,\" \"at some point we have to say, you know what, we're better off,\" \"it's going to happen, anyway,\" and \"wouldn't you rather in a certain sense have Japan have nuclear weapons?\"\n",
    "\"\"\"\n",
    "\n",
    "top_text_embedding = embedding([top_text])\n",
    "\n",
    "top_extra_text_embedding = embedding([top_extra_text])"
   ]
  },
  {
   "cell_type": "code",
   "execution_count": 11,
   "metadata": {},
   "outputs": [
    {
     "name": "stdout",
     "output_type": "stream",
     "text": [
      "[[0.80357563]]\n"
     ]
    }
   ],
   "source": [
    "# 这个是裁剪了最后的文本然后贴入这个的计算结果\n",
    "print(calculateSimilarity(top_extra_text_embedding, top_text_embedding))"
   ]
  }
 ],
 "metadata": {
  "kernelspec": {
   "display_name": "ModelBuild",
   "language": "python",
   "name": "python3"
  },
  "language_info": {
   "codemirror_mode": {
    "name": "ipython",
    "version": 3
   },
   "file_extension": ".py",
   "mimetype": "text/x-python",
   "name": "python",
   "nbconvert_exporter": "python",
   "pygments_lexer": "ipython3",
   "version": "3.9.18"
  }
 },
 "nbformat": 4,
 "nbformat_minor": 2
}
