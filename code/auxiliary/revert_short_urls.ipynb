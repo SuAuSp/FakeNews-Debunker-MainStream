{
 "cells": [
  {
   "cell_type": "markdown",
   "metadata": {},
   "source": [
    "# 国外服务器或开代理"
   ]
  },
  {
   "cell_type": "code",
   "execution_count": 1,
   "metadata": {},
   "outputs": [],
   "source": [
    "import urlexpander\n",
    "import pandas as pd\n",
    "from joblib import dump, load"
   ]
  },
  {
   "cell_type": "markdown",
   "metadata": {},
   "source": [
    "## 转换"
   ]
  },
  {
   "cell_type": "code",
   "execution_count": 11,
   "metadata": {},
   "outputs": [
    {
     "data": {
      "text/plain": [
       "58106"
      ]
     },
     "execution_count": 11,
     "metadata": {},
     "output_type": "execute_result"
    }
   ],
   "source": [
    "# 取出短URL表，并转成列表\n",
    "short_urls = load(\"pkl/short_urls[topic=POTUS2016][type=set].pkl\")\n",
    "short_urls = list(short_urls)\n",
    "len(short_urls)"
   ]
  },
  {
   "cell_type": "code",
   "execution_count": 12,
   "metadata": {},
   "outputs": [],
   "source": [
    "# 把url存为csv文件\n",
    "df_url = pd.DataFrame(short_urls, columns=['url'])\n",
    "# df_url.to_csv(\"data/short_urls[topic=POTUS2016].csv\", index=False)"
   ]
  },
  {
   "cell_type": "code",
   "execution_count": 13,
   "metadata": {},
   "outputs": [],
   "source": [
    "def revertShortLink(url, error_set:set):\n",
    "    try:\n",
    "        res = urlexpander.expand(url)\n",
    "        return res\n",
    "    except:\n",
    "        error_set.add(url)\n",
    "        return res"
   ]
  },
  {
   "cell_type": "code",
   "execution_count": 14,
   "metadata": {},
   "outputs": [
    {
     "name": "stdout",
     "output_type": "stream",
     "text": [
      "0 \n",
      "300 600 900 1200 1500 1800 2100 2400 2700 3000 \n",
      "3300 3600 3900 4200 4500 4800 5100 5400 5700 6000 \n",
      "6300 6600 6900 7200 7500 7800 8100 8400 8700 9000 \n",
      "9300 9600 9900 10200 10500 10800 11100 11400 11700 12000 \n",
      "12300 12600 12900 13200 13500 13800 14100 14400 14700 15000 \n",
      "15300 15600 15900 16200 16500 16800 17100 17400 17700 18000 \n",
      "18300 18600 18900 19200 19500 19800 20100 20400 20700 21000 \n",
      "21300 21600 21900 22200 22500 22800 23100 23400 23700 24000 \n",
      "24300 24600 24900 25200 25500 25800 26100 26400 26700 27000 \n",
      "27300 27600 27900 28200 28500 28800 29100 29400 29700 30000 \n",
      "30300 30600 30900 31200 31500 31800 32100 32400 32700 33000 \n",
      "33300 33600 33900 34200 34500 34800 35100 35400 35700 36000 \n",
      "36300 36600 36900 37200 37500 37800 38100 38400 38700 39000 \n",
      "39300 39600 39900 40200 40500 40800 41100 41400 41700 42000 \n",
      "42300 42600 42900 43200 43500 43800 44100 44400 44700 45000 \n",
      "45300 45600 45900 46200 46500 46800 47100 47400 47700 48000 \n",
      "48300 48600 48900 49200 49500 49800 50100 50400 50700 51000 \n",
      "51300 51600 51900 52200 52500 52800 53100 53400 53700 54000 \n",
      "54300 54600 54900 55200 55500 55800 56100 56400 56700 57000 \n",
      "57300 57600 57900 "
     ]
    }
   ],
   "source": [
    "# 开始转换短URL，并记录错误数量\n",
    "chunk = 300\n",
    "chunk_10 = chunk * 10\n",
    "begin = 0\n",
    "error_urls = set()\n",
    "df_url['reverted_url'] = ''\n",
    "result_file = \"data/reverted_short_urls[topic=POTUS2016].csv\"\n",
    "\n",
    "for i in range(begin, df_url.shape[0], chunk):\n",
    "    tmp = urlexpander.expand(list(df_url.iloc[i:i+chunk, :]['url']), n_workers=4)\n",
    "    df_url.iloc[i:i+chunk, [1]] = pd.DataFrame(tmp)\n",
    "    df_url.to_csv(result_file, index=False)\n",
    "    print(i, end=' ')\n",
    "    if (i % chunk_10) == 0:\n",
    "        print('\\n', end='')\n",
    "\n",
    "df_url.to_csv(result_file, index=False)"
   ]
  },
  {
   "cell_type": "markdown",
   "metadata": {},
   "source": [
    "## 检查"
   ]
  },
  {
   "cell_type": "code",
   "execution_count": 15,
   "metadata": {},
   "outputs": [],
   "source": [
    "df = pd.read_csv(\"data/reverted_short_urls[topic=POTUS2016].csv\")"
   ]
  },
  {
   "cell_type": "code",
   "execution_count": 16,
   "metadata": {},
   "outputs": [
    {
     "name": "stdout",
     "output_type": "stream",
     "text": [
      "<class 'pandas.core.frame.DataFrame'>\n",
      "RangeIndex: 58106 entries, 0 to 58105\n",
      "Data columns (total 2 columns):\n",
      " #   Column        Non-Null Count  Dtype \n",
      "---  ------        --------------  ----- \n",
      " 0   url           58106 non-null  object\n",
      " 1   reverted_url  58106 non-null  object\n",
      "dtypes: object(2)\n",
      "memory usage: 908.0+ KB\n"
     ]
    }
   ],
   "source": [
    "df.info()"
   ]
  }
 ],
 "metadata": {
  "kernelspec": {
   "display_name": "py311",
   "language": "python",
   "name": "python3"
  },
  "language_info": {
   "codemirror_mode": {
    "name": "ipython",
    "version": 3
   },
   "file_extension": ".py",
   "mimetype": "text/x-python",
   "name": "python",
   "nbconvert_exporter": "python",
   "pygments_lexer": "ipython3",
   "version": "3.1.0"
  }
 },
 "nbformat": 4,
 "nbformat_minor": 2
}
