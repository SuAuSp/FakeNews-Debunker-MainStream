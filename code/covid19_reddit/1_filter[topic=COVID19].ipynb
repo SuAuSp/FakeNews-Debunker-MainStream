{
 "cells": [
  {
   "cell_type": "markdown",
   "metadata": {},
   "source": [
    "# Filter posts on the reddit related to the ***COVID-19***\n",
    "\n",
    "python=3.7\n",
    "\n",
    "(time：March 1, 2020 to February 28 2022)"
   ]
  },
  {
   "cell_type": "code",
   "execution_count": 3,
   "metadata": {},
   "outputs": [],
   "source": [
    "import pandas as pd\n",
    "from joblib import Parallel, delayed  # parallel computing\n",
    "from joblib import dump, load\n",
    "import matplotlib.pyplot as plt\n",
    "import seaborn as sns\n",
    "import warnings\n",
    "warnings.filterwarnings('ignore')\n",
    "\n",
    "# show all columns in the DataFrame\n",
    "pd.set_option('display.max_columns', None)\n",
    "# fully display the content in displayed table cells\n",
    "pd.set_option('display.max_colwidth', None)"
   ]
  },
  {
   "cell_type": "markdown",
   "metadata": {},
   "source": [
    "## Use keywords to select comments related to ***COVID-19***"
   ]
  },
  {
   "cell_type": "code",
   "execution_count": null,
   "metadata": {},
   "outputs": [],
   "source": [
    "# Filtering using topic keywords\n",
    "import os\n",
    "import re\n",
    "from datetime import datetime\n",
    "import pandas as pd\n",
    "from multiprocessing import Pool\n",
    "\n",
    "# keywords\n",
    "keywords = ['wuhanpneumonia','COVID19','coronavirus','corona virus','2019-nCoV','SARS-CoV-2']\n",
    "\n",
    "# file path\n",
    "source_path = \"/mnt/data/reddit/reddit/RC/\"\n",
    "target_path = \"data/csv_filtered/\"\n",
    "\n",
    "# set time range\n",
    "start_date = datetime.strptime(\"2020-03\", \"%Y-%m\")\n",
    "end_date = datetime.strptime(\"2022-02\", \"%Y-%m\")\n",
    "\n",
    "# settings for result filename\n",
    "label = 'en+COVID19'\n",
    "content = 'comment'\n",
    "\n",
    "# format of source filename\n",
    "date_str_pattern = r'RC_(.*?)\\.zst\\.csv'\n",
    "\n",
    "# other settings\n",
    "chunksize = 1e6\n",
    "proc_num = 13\n",
    "\n",
    "def process_file(source_name):\n",
    "    # check file name\n",
    "    mtch = re.search(date_str_pattern, source_name)\n",
    "    if mtch:\n",
    "        # get date from file name\n",
    "        date_str = mtch.group(1)\n",
    "        file_date = datetime.strptime(date_str, '%Y-%m')\n",
    "        \n",
    "        # check if the date in time range. if yes, process the file.\n",
    "        if start_date <= file_date <= end_date:\n",
    "            print(f\"processing {source_name} ... ...\\n\", end='')\n",
    "            target_name = f\"{content}[{label}][{date_str}].csv\"\n",
    "\n",
    "            # check if the target file already exists\n",
    "            if os.path.exists(target_path + target_name):\n",
    "                print(f\"{target_name} already exists.\\n\", end='')\n",
    "                return\n",
    "\n",
    "            try:\n",
    "                for chunk in pd.read_csv(source_path + source_name, chunksize=chunksize, engine='python'):\n",
    "                    df = chunk[chunk['body'].astype(str).str.contains('|'.join(keywords), case=False)]\n",
    "                    df.to_csv(target_path + target_name, mode='a', index=False)\n",
    "                print(f\"{source_name} processed.\\n\", end='')\n",
    "            except Exception as e:\n",
    "                print(f\"failed processing {source_name}.\\n{e}\\n\", end='')\n",
    "\n",
    "# get a list of files\n",
    "files = os.listdir(source_path)\n",
    "\n",
    "# create a pool of workers\n",
    "with Pool(processes=proc_num) as pool:\n",
    "    pool.map(process_file, files)\n",
    "\n",
    "print(\"Done.\")"
   ]
  },
  {
   "cell_type": "code",
   "execution_count": 3,
   "metadata": {},
   "outputs": [
    {
     "name": "stdout",
     "output_type": "stream",
     "text": [
      "data/csv_filtered/comment[en+COVID19][2020-05].csv\n",
      "data/csv_filtered/comment[en+COVID19][2021-09].csv\n",
      "data/csv_filtered/comment[en+COVID19][2021-05].csv\n",
      "data/csv_filtered/comment[en+COVID19][2020-09].csv\n",
      "data/csv_filtered/comment[en+COVID19][2020-03].csv\n",
      "data/csv_filtered/comment[en+COVID19][2021-07].csv\n",
      "data/csv_filtered/comment[en+COVID19][2021-10].csv\n",
      "data/csv_filtered/comment[en+COVID19][2021-03].csv\n",
      "data/csv_filtered/comment[en+COVID19][2021-02].csv\n",
      "data/csv_filtered/comment[en+COVID19][2021-06].csv\n",
      "data/csv_filtered/comment[en+COVID19][2020-04].csv\n",
      "data/csv_filtered/comment[en+COVID19][2020-11].csv\n",
      "data/csv_filtered/comment[en+COVID19][2022-01].csv\n",
      "data/csv_filtered/comment[en+COVID19][2020-12].csv\n",
      "data/csv_filtered/comment[en+COVID19][2021-11].csv\n",
      "data/csv_filtered/comment[en+COVID19][2021-08].csv\n",
      "data/csv_filtered/comment[en+COVID19][2020-08].csv\n",
      "data/csv_filtered/comment[en+COVID19][2020-07].csv\n",
      "data/csv_filtered/comment[en+COVID19][2020-06].csv\n",
      "data/csv_filtered/comment[en+COVID19][2020-10].csv\n",
      "data/csv_filtered/comment[en+COVID19][2021-12].csv\n",
      "data/csv_filtered/comment[en+COVID19][2022-02].csv\n",
      "data/csv_filtered/comment[en+COVID19][2021-01].csv\n",
      "data/csv_filtered/comment[en+COVID19][2021-04].csv\n",
      "<class 'pandas.core.frame.DataFrame'>\n",
      "RangeIndex: 5808719 entries, 0 to 5808718\n",
      "Data columns (total 8 columns):\n",
      " #   Column        Dtype \n",
      "---  ------        ----- \n",
      " 0   created_utc   object\n",
      " 1   author        object\n",
      " 2   subreddit     object\n",
      " 3   body          object\n",
      " 4   parent_id     object\n",
      " 5   subreddit_id  object\n",
      " 6   id            object\n",
      " 7   lang          object\n",
      "dtypes: object(8)\n",
      "memory usage: 354.5+ MB\n"
     ]
    }
   ],
   "source": [
    "import os\n",
    "\n",
    "folder_path = 'data/csv_filtered'\n",
    "all_data = pd.DataFrame()\n",
    "\n",
    "# os.listdir()方法用于返回指定的文件夹包含的文件或文件夹的名字的列表\n",
    "for filename in os.listdir(folder_path):\n",
    "    # 使用os.path.join()方法拼接文件的完整路径\n",
    "    file_path = os.path.join(folder_path, filename)\n",
    "    # 使用os.path.isfile()方法判断路径是否为文件\n",
    "    if os.path.isfile(file_path) and filename.endswith('.csv'):\n",
    "        print(file_path)\n",
    "        df = pd.read_csv(file_path, engine='python')\n",
    "        all_data = all_data.append(df, ignore_index=True)\n",
    "\n",
    "all_data.info()"
   ]
  },
  {
   "cell_type": "code",
   "execution_count": 4,
   "metadata": {},
   "outputs": [],
   "source": [
    "# considering four possibilities\n",
    "df=all_data.query(\"author !='[deleted]' & body!='[deleted]'\")\n",
    "df=all_data.query(\"author !='[removed]' & body!='[deleted]'\")\n",
    "df=all_data.query(\"author !='[removed]' & body!='[removed]'\")\n",
    "df=all_data.query(\"author !='[deleted]' & body!='[removed]'\")"
   ]
  },
  {
   "cell_type": "code",
   "execution_count": 6,
   "metadata": {},
   "outputs": [
    {
     "data": {
      "text/plain": [
       "5670890"
      ]
     },
     "execution_count": 6,
     "metadata": {},
     "output_type": "execute_result"
    }
   ],
   "source": [
    "len(df)"
   ]
  },
  {
   "cell_type": "code",
   "execution_count": 5,
   "metadata": {},
   "outputs": [
    {
     "name": "stdout",
     "output_type": "stream",
     "text": [
      "INFO: Pandarallel will run on 32 workers.\n",
      "INFO: Pandarallel will use Memory file system to transfer data between the main process and workers.\n"
     ]
    },
    {
     "data": {
      "application/vnd.jupyter.widget-view+json": {
       "model_id": "07eff317abf3419ebc2994ebf164bfb2",
       "version_major": 2,
       "version_minor": 0
      },
      "text/plain": [
       "VBox(children=(HBox(children=(IntProgress(value=0, description='0.00%', max=177216), Label(value='0 / 177216')…"
      ]
     },
     "metadata": {},
     "output_type": "display_data"
    }
   ],
   "source": [
    "# language detection\n",
    "from langdetect import detect\n",
    "def detectlang(x):\n",
    "    try:\n",
    "        return (detect(x))\n",
    "    except:\n",
    "        return ''\n",
    "\n",
    "from pandarallel import pandarallel\n",
    "# Initialization\n",
    "pandarallel.initialize(progress_bar=True, nb_workers=32)\n",
    "# Parallel apply\n",
    "df['lang'] = df['body'].parallel_apply(detectlang).tolist()\n",
    "\n",
    "df.to_csv('data/comments[topic=COVID19][lang=en].csv',index=None)"
   ]
  },
  {
   "cell_type": "code",
   "execution_count": 7,
   "metadata": {},
   "outputs": [
    {
     "data": {
      "text/plain": [
       "en    5270472\n",
       "        84086\n",
       "es      60894\n",
       "de      36660\n",
       "pt      33945\n",
       "fr      32457\n",
       "cy      25647\n",
       "it      22718\n",
       "nl      14517\n",
       "ro      10577\n",
       "Name: lang, dtype: int64"
      ]
     },
     "execution_count": 7,
     "metadata": {},
     "output_type": "execute_result"
    }
   ],
   "source": [
    "# check the number of language types\n",
    "unique_lang_count = df['lang'].value_counts()\n",
    "unique_lang_count.head(10)"
   ]
  },
  {
   "cell_type": "markdown",
   "metadata": {},
   "source": [
    "## Based on previous selection, use debunking keywords for filtering"
   ]
  },
  {
   "cell_type": "code",
   "execution_count": 9,
   "metadata": {},
   "outputs": [],
   "source": [
    "df = pd.read_csv(\"data/comments[topic=COVID19][lang=en].csv\")\n",
    "\n",
    "# English debunking keywords\n",
    "debunk_keywords_en = [\n",
    "    'fact check', 'fact-checking', 'fact checkers', 'fake news', 'misinformation', 'disinformation', \n",
    "    'debunkers', 'debunker', 'debunking', 'debunk'\n",
    "]\n",
    "\n",
    "# get more debunking key words\n",
    "debunk_site = pd.read_csv(\"data/(Merge_ver3)debunking_fact-checking_sites.csv\")\n",
    "debunk_site = debunk_site.dropna(subset=['domain'])\n",
    "debunk_site_domain = debunk_site['domain'].to_list()\n",
    "debunk_site_name = debunk_site['name'].to_list()\n",
    "\n",
    "df_debunk_en = df[\n",
    "    (df['lang'] == 'en') &  # '&' has higher priority than '=='\n",
    "    df['body'].astype(str).str.contains('|'.join(debunk_keywords_en + debunk_site_domain + debunk_site_name), case=False)\n",
    "]\n",
    "\n",
    "df_debunk_en.sort_values('created_utc', inplace=True)\n",
    "df_debunk_en.to_csv(\"data/debunking_comments[topic=COVID19][lang=en].csv\", index=False)"
   ]
  },
  {
   "cell_type": "code",
   "execution_count": 10,
   "metadata": {},
   "outputs": [
    {
     "name": "stdout",
     "output_type": "stream",
     "text": [
      "<class 'pandas.core.frame.DataFrame'>\n",
      "Int64Index: 290318 entries, 875637 to 5407358\n",
      "Data columns (total 8 columns):\n",
      " #   Column        Non-Null Count   Dtype \n",
      "---  ------        --------------   ----- \n",
      " 0   created_utc   290318 non-null  object\n",
      " 1   author        290318 non-null  object\n",
      " 2   subreddit     290318 non-null  object\n",
      " 3   body          290318 non-null  object\n",
      " 4   parent_id     290318 non-null  object\n",
      " 5   subreddit_id  290318 non-null  object\n",
      " 6   id            290318 non-null  object\n",
      " 7   lang          290318 non-null  object\n",
      "dtypes: object(8)\n",
      "memory usage: 19.9+ MB\n"
     ]
    }
   ],
   "source": [
    "df_debunk_en.info()"
   ]
  },
  {
   "cell_type": "code",
   "execution_count": 6,
   "metadata": {},
   "outputs": [
    {
     "data": {
      "image/png": "[encoded data removed]",
      "text/plain": [
       "<Figure size 1000x600 with 1 Axes>"
      ]
     },
     "metadata": {},
     "output_type": "display_data"
    }
   ],
   "source": [
    "# 作出按日变化的帖子数统计图\n",
    "df = pd.read_csv(\"data/debunking_comments[topic=COVID19][lang=en].csv\")\n",
    "\n",
    "df['created_utc'] = pd.to_datetime(df['created_utc'])\n",
    "df['date'] = df['created_utc'].dt.date  # 创建一个新列，只包含日期信息\n",
    "\n",
    "# 创建一个日期范围，从最早的帖子日期到最晚的帖子日期\n",
    "date_range = pd.date_range(start=df['date'].min(), end=df['date'].max())\n",
    "# 对日期进行分组，并计算每组的大小（即每天的数据条数）\n",
    "daily_counts = df.groupby('date').size()  \n",
    "# 使用reindex函数来填充缺失的日期，对于缺失的日期，帖子数量设为0\n",
    "daily_counts = daily_counts.reindex(date_range, fill_value=0)\n",
    "\n",
    "plt.figure(figsize=(10, 6))\n",
    "\n",
    "sns.lineplot(data=daily_counts)\n",
    "\n",
    "plt.title('daily number of comments')\n",
    "plt.ylim((0,None))\n",
    "plt.xlabel('date')\n",
    "plt.ylabel('number')\n",
    "plt.show()"
   ]
  }
 ],
 "metadata": {
  "kernelspec": {
   "display_name": "py37",
   "language": "python",
   "name": "python3"
  },
  "language_info": {
   "codemirror_mode": {
    "name": "ipython",
    "version": 3
   },
   "file_extension": ".py",
   "mimetype": "text/x-python",
   "name": "python",
   "nbconvert_exporter": "python",
   "pygments_lexer": "ipython3",
   "version": "3.7.16"
  }
 },
 "nbformat": 4,
 "nbformat_minor": 2
}
