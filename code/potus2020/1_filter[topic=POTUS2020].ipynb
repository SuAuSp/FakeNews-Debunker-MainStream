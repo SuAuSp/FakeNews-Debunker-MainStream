{
 "cells": [
  {
   "cell_type": "markdown",
   "metadata": {},
   "source": [
    "# POTUS Election 2020 Analysis (1)\n",
    "\n",
    "python=3.7\n",
    "\n",
    "2020 POTUS Election\n",
    "\n",
    "筛选与2020年美国总统大选有关的帖子和URL处理"
   ]
  },
  {
   "cell_type": "code",
   "execution_count": 30,
   "metadata": {},
   "outputs": [],
   "source": [
    "import pandas as pd\n",
    "import seaborn as sns\n",
    "import re\n",
    "from joblib import dump, load\n",
    "from joblib import Parallel, delayed  # 并行计算\n",
    "from tldextract import extract\n",
    "import matplotlib.pyplot as plt\n",
    "import warnings\n",
    "warnings.filterwarnings('ignore')\n",
    "%matplotlib inline\n",
    "\n",
    "# 输出DataFrame时显示所有的列\n",
    "pd.set_option('display.max_columns', None)\n",
    "# 输出DataFrame时每行显示完整的内容\n",
    "pd.set_option('display.max_colwidth', None)"
   ]
  },
  {
   "cell_type": "markdown",
   "metadata": {},
   "source": [
    "## 筛选2020年8月17日-2021年1月20日有关的英文帖子"
   ]
  },
  {
   "cell_type": "code",
   "execution_count": 16,
   "metadata": {},
   "outputs": [],
   "source": [
    "keywords = [\"trump\", \"maga\", \"MakeAmericaGreatAgain\", \"Make America Great Again\", \"sleepy joe\", \\\n",
    "            \"sleepyjoe\", \"AmericaFirst\", \"kag\", \"pence\", \"VoteRed2020\", \\\n",
    "            \"biden\", \"joe2020\", \"teamjoe\", \"kamala\", \"harris\", \"demconvention\", \"demdebate\", \\\n",
    "            \"BattleForTheSoulOfTheNation\", \"Battle For The Soul Of The Nation\", \"VoteBlue2020\", \\\n",
    "            \"election2020\", \"elections2020\", \"debates2020\"]\n",
    "\n",
    "# 处理csv原文件(编号从1到27)\n",
    "def filter(csv_file_index, keywords, source_path, target_path, result_file_suffix):\n",
    "    df = pd.read_csv(source_path + str(csv_file_index) + \".csv\")  # 从source_path文件夹中取出原文件\n",
    "    df_f1 = df[df['text'].str.contains('|'.join(keywords), case=False)]  # 对帖文进行关键词检索\n",
    "    df_f2 = df[df['entities.hashtags'].astype(str).str.contains('|'.join(keywords), case=False)]  # 对话题标签进行关键词检索\n",
    "    df_cat = pd.concat([df_f1,df_f2], axis=0, join='inner')  # 合并两种检索结果\n",
    "    df_cat.sort_index(axis=0, ascending=True, inplace=True)  # 恢复帖文顺序\n",
    "    df_cat.drop_duplicates(subset='id', keep='first', inplace=True)  # 去重\n",
    "    df_cat.to_csv(target_path + str(csv_file_index) + result_file_suffix + \".csv\", index=False)  # 保存"
   ]
  },
  {
   "cell_type": "code",
   "execution_count": 18,
   "metadata": {},
   "outputs": [
    {
     "name": "stderr",
     "output_type": "stream",
     "text": [
      "/home/shiqian/miniconda3/envs/py37/lib/python3.7/site-packages/joblib/parallel.py:263: DtypeWarning: Columns (25,27,28,29,31,39,41,42,43,49,65,67,68,69) have mixed types.Specify dtype option on import or set low_memory=False.\n",
      "  for func, args, kwargs in self.items]\n",
      "/home/shiqian/miniconda3/envs/py37/lib/python3.7/site-packages/joblib/parallel.py:263: DtypeWarning: Columns (25,27,28,29,31,39,41,42,43,49,65,67,68,69) have mixed types.Specify dtype option on import or set low_memory=False.\n",
      "  for func, args, kwargs in self.items]\n",
      "/home/shiqian/miniconda3/envs/py37/lib/python3.7/site-packages/joblib/parallel.py:263: DtypeWarning: Columns (25,27,28,29,31,39,41,42,43,65,67,68,69) have mixed types.Specify dtype option on import or set low_memory=False.\n",
      "  for func, args, kwargs in self.items]\n",
      "/home/shiqian/miniconda3/envs/py37/lib/python3.7/site-packages/joblib/parallel.py:263: DtypeWarning: Columns (25,27,28,29,31,39,41,42,43,65,67,68,69) have mixed types.Specify dtype option on import or set low_memory=False.\n",
      "  for func, args, kwargs in self.items]\n"
     ]
    },
    {
     "data": {
      "text/plain": [
       "[None, None, None, None]"
      ]
     },
     "execution_count": 18,
     "metadata": {},
     "output_type": "execute_result"
    }
   ],
   "source": [
    "# 并行处理从13到16号csv原文件\n",
    "begin = 13\n",
    "end = 16\n",
    "source_folder = \"/mnt/data/Project7/fakenews/csv/\"\n",
    "target_folder = \"data/csv_potus_election2020/\"\n",
    "suffix = \"_potus_election2020\"\n",
    "Parallel(n_jobs=4)(delayed(filter)(ind, keywords, source_folder, target_folder, suffix) \\\n",
    "                              for ind in range(begin, end+1))"
   ]
  },
  {
   "cell_type": "code",
   "execution_count": 21,
   "metadata": {},
   "outputs": [],
   "source": [
    "# 合并处理结果，并筛选出英文帖子\n",
    "results = []\n",
    "for i in range(13, 16+1):\n",
    "    df = pd.read_csv(target_folder + str(i) + suffix + \".csv\")\n",
    "    results.append(df)\n",
    "results.reverse()\n",
    "df_cat = pd.concat(results, axis=0)\n",
    "df_cat.drop_duplicates(subset='id', keep='first', inplace=True)  # 去重\n",
    "df_cat = df_cat[df_cat['lang'] == 'en']  # 英文帖子\n",
    "df_cat.reset_index(drop=True, inplace=True)  # 重置行索引\n",
    "df_cat.to_csv(\"data/full_data[topic=POTUS2020].csv\", index=False)  # 保存"
   ]
  },
  {
   "cell_type": "code",
   "execution_count": 92,
   "metadata": {},
   "outputs": [
    {
     "data": {
      "text/html": [
       "<div>\n",
       "<style scoped>\n",
       "    .dataframe tbody tr th:only-of-type {\n",
       "        vertical-align: middle;\n",
       "    }\n",
       "\n",
       "    .dataframe tbody tr th {\n",
       "        vertical-align: top;\n",
       "    }\n",
       "\n",
       "    .dataframe thead th {\n",
       "        text-align: right;\n",
       "    }\n",
       "</style>\n",
       "<table border=\"1\" class=\"dataframe\">\n",
       "  <thead>\n",
       "    <tr style=\"text-align: right;\">\n",
       "      <th></th>\n",
       "      <th>created_at</th>\n",
       "    </tr>\n",
       "  </thead>\n",
       "  <tbody>\n",
       "    <tr>\n",
       "      <th>478856</th>\n",
       "      <td>2021-01-21T00:00:05.000Z</td>\n",
       "    </tr>\n",
       "    <tr>\n",
       "      <th>478857</th>\n",
       "      <td>2021-01-21T00:00:04.000Z</td>\n",
       "    </tr>\n",
       "    <tr>\n",
       "      <th>478858</th>\n",
       "      <td>2021-01-20T23:59:59.000Z</td>\n",
       "    </tr>\n",
       "    <tr>\n",
       "      <th>478859</th>\n",
       "      <td>2021-01-20T23:59:59.000Z</td>\n",
       "    </tr>\n",
       "    <tr>\n",
       "      <th>478860</th>\n",
       "      <td>2021-01-20T23:59:58.000Z</td>\n",
       "    </tr>\n",
       "    <tr>\n",
       "      <th>...</th>\n",
       "      <td>...</td>\n",
       "    </tr>\n",
       "    <tr>\n",
       "      <th>7087319</th>\n",
       "      <td>2020-08-18T00:00:01.000Z</td>\n",
       "    </tr>\n",
       "    <tr>\n",
       "      <th>7087320</th>\n",
       "      <td>2020-08-18T00:00:01.000Z</td>\n",
       "    </tr>\n",
       "    <tr>\n",
       "      <th>7087321</th>\n",
       "      <td>2020-08-18T00:00:01.000Z</td>\n",
       "    </tr>\n",
       "    <tr>\n",
       "      <th>7087322</th>\n",
       "      <td>2020-08-17T23:59:56.000Z</td>\n",
       "    </tr>\n",
       "    <tr>\n",
       "      <th>7087323</th>\n",
       "      <td>2020-08-17T23:59:51.000Z</td>\n",
       "    </tr>\n",
       "  </tbody>\n",
       "</table>\n",
       "<p>6608468 rows × 1 columns</p>\n",
       "</div>"
      ],
      "text/plain": [
       "                       created_at\n",
       "478856   2021-01-21T00:00:05.000Z\n",
       "478857   2021-01-21T00:00:04.000Z\n",
       "478858   2021-01-20T23:59:59.000Z\n",
       "478859   2021-01-20T23:59:59.000Z\n",
       "478860   2021-01-20T23:59:58.000Z\n",
       "...                           ...\n",
       "7087319  2020-08-18T00:00:01.000Z\n",
       "7087320  2020-08-18T00:00:01.000Z\n",
       "7087321  2020-08-18T00:00:01.000Z\n",
       "7087322  2020-08-17T23:59:56.000Z\n",
       "7087323  2020-08-17T23:59:51.000Z\n",
       "\n",
       "[6608468 rows x 1 columns]"
      ]
     },
     "execution_count": 92,
     "metadata": {},
     "output_type": "execute_result"
    }
   ],
   "source": [
    "df_cat.loc[478856:7087323, ['created_at']]  # 478858-7087321"
   ]
  },
  {
   "cell_type": "code",
   "execution_count": 97,
   "metadata": {},
   "outputs": [],
   "source": [
    "data = df_cat.loc[478858:7087321, :]\n",
    "data.to_csv(\"data/full_data[topic=POTUS2020].csv\", index=False)"
   ]
  },
  {
   "cell_type": "code",
   "execution_count": 98,
   "metadata": {},
   "outputs": [
    {
     "name": "stdout",
     "output_type": "stream",
     "text": [
      "authors: 1463058\n",
      "in_reply_to_users: 184274\n",
      "retweeted_users: 74934\n",
      "quoted_users: 21659\n",
      "all_users: 1532128\n"
     ]
    }
   ],
   "source": [
    "# 统计用户数\n",
    "# 帖子作者\n",
    "authors = set(data[data['author.username'].notna()]['author.username'])\n",
    "# 被回复者\n",
    "in_reply_to_users = set(data[data['in_reply_to_username'].notna()]['in_reply_to_username'])\n",
    "# 被转推者\n",
    "retweeted_users = set(data[data['retweeted_username'].notna()]['retweeted_username'])\n",
    "# 被引用者\n",
    "quoted_users = set(data[data['quoted_username'].notna()]['quoted_username'])\n",
    "# 涉及到的全部用户\n",
    "all_users = authors | in_reply_to_users | retweeted_users | quoted_users\n",
    "\n",
    "# 列出各种用户的数量\n",
    "print(\"authors:\", len(authors))\n",
    "print(\"in_reply_to_users:\", len(in_reply_to_users))\n",
    "print(\"retweeted_users:\", len(retweeted_users))\n",
    "print(\"quoted_users:\", len(quoted_users))\n",
    "print(\"all_users:\", len(all_users))"
   ]
  },
  {
   "cell_type": "markdown",
   "metadata": {},
   "source": [
    "## 处理URL"
   ]
  },
  {
   "cell_type": "code",
   "execution_count": 2,
   "metadata": {},
   "outputs": [],
   "source": [
    "df = pd.read_csv(\"data/full_data[topic=POTUS2020].csv\")"
   ]
  },
  {
   "cell_type": "code",
   "execution_count": 4,
   "metadata": {},
   "outputs": [
    {
     "data": {
      "text/plain": [
       "356253"
      ]
     },
     "execution_count": 4,
     "metadata": {},
     "output_type": "execute_result"
    }
   ],
   "source": [
    "# 取出帖子中的url\n",
    "def get_url_from_url_list(url_list: str, url_set: set):\n",
    "    if type(url_list) != str:\n",
    "        return url_list\n",
    "    fd = re.findall('\"(.+?)\"', url_list)\n",
    "    url_set.update(fd)\n",
    "\n",
    "url_set = set()\n",
    "df['entities.urls'].apply(get_url_from_url_list, args=(url_set, ))\n",
    "len(url_set)"
   ]
  },
  {
   "cell_type": "markdown",
   "metadata": {},
   "source": [
    "### 短url（长度小于等于23）"
   ]
  },
  {
   "cell_type": "code",
   "execution_count": 7,
   "metadata": {},
   "outputs": [
    {
     "name": "stdout",
     "output_type": "stream",
     "text": [
      "number of short urls:  24924\n"
     ]
    }
   ],
   "source": [
    "short_urls = set()\n",
    "for a in url_set:\n",
    "    if len(a) <= 23:\n",
    "        short_urls.add(a)\n",
    "\n",
    "dump(short_urls, \"pkl/short_urls[topic=POTUS2020][type=set].pkl\")\n",
    "print(\"number of short urls: \", len(short_urls))"
   ]
  },
  {
   "cell_type": "markdown",
   "metadata": {},
   "source": [
    "去国外服务器上跑转换短URL"
   ]
  },
  {
   "cell_type": "code",
   "execution_count": 10,
   "metadata": {},
   "outputs": [
    {
     "name": "stdout",
     "output_type": "stream",
     "text": [
      "<class 'pandas.core.frame.DataFrame'>\n",
      "RangeIndex: 24924 entries, 0 to 24923\n",
      "Data columns (total 2 columns):\n",
      " #   Column        Non-Null Count  Dtype \n",
      "---  ------        --------------  ----- \n",
      " 0   url           24924 non-null  object\n",
      " 1   reverted_url  24924 non-null  object\n",
      "dtypes: object(2)\n",
      "memory usage: 389.6+ KB\n"
     ]
    }
   ],
   "source": [
    "# 转换后的短URL\n",
    "df_reverted_urls = pd.read_csv(\"data/reverted_short_urls[topic=POTUS2020].csv\")\n",
    "df_reverted_urls.info()"
   ]
  },
  {
   "cell_type": "markdown",
   "metadata": {},
   "source": [
    "### 长url（长度大于23）"
   ]
  },
  {
   "cell_type": "code",
   "execution_count": 8,
   "metadata": {},
   "outputs": [
    {
     "name": "stdout",
     "output_type": "stream",
     "text": [
      "number of short urls:  331329\n"
     ]
    }
   ],
   "source": [
    "long_urls = set({})\n",
    "for a in url_set:\n",
    "    if len(a) > 23:\n",
    "        long_urls.add(a)\n",
    "\n",
    "dump(long_urls, \"pkl/long_urls[topic=POTUS2020][type=set].pkl\")\n",
    "print(\"number of short urls: \", len(long_urls))"
   ]
  },
  {
   "cell_type": "code",
   "execution_count": 9,
   "metadata": {},
   "outputs": [
    {
     "name": "stdout",
     "output_type": "stream",
     "text": [
      "<class 'pandas.core.frame.DataFrame'>\n",
      "RangeIndex: 331329 entries, 0 to 331328\n",
      "Data columns (total 1 columns):\n",
      " #   Column  Non-Null Count   Dtype \n",
      "---  ------  --------------   ----- \n",
      " 0   url     331329 non-null  object\n",
      "dtypes: object(1)\n",
      "memory usage: 2.5+ MB\n"
     ]
    }
   ],
   "source": [
    "df_long_urls = pd.DataFrame(long_urls, columns=['url'])\n",
    "df_long_urls.info()"
   ]
  },
  {
   "cell_type": "markdown",
   "metadata": {},
   "source": [
    "### 长短URL合并&标记"
   ]
  },
  {
   "cell_type": "code",
   "execution_count": 11,
   "metadata": {},
   "outputs": [],
   "source": [
    "df_long_urls['reverted_url'] = df_long_urls['url']\n",
    "df_urls = pd.concat([df_reverted_urls, df_long_urls], ignore_index=True)"
   ]
  },
  {
   "cell_type": "code",
   "execution_count": 12,
   "metadata": {},
   "outputs": [],
   "source": [
    "# 从URL中提取域名的函数\n",
    "from tldextract import extract\n",
    "def get_domain(url:str) -> str:\n",
    "    res = extract(url)\n",
    "    return res[1] + '.' + res[2]\n",
    "\n",
    "df_urls['domain'] = df_urls['reverted_url'].apply(get_domain)"
   ]
  },
  {
   "cell_type": "code",
   "execution_count": 13,
   "metadata": {},
   "outputs": [],
   "source": [
    "# 导入三种媒体的域名列表\n",
    "# fake news media\n",
    "fn_df = pd.read_csv(\"data/FakeNewsDomain_from_iffy.news_23.09.06.csv\")\n",
    "# mainstream media\n",
    "ms_df = pd.read_csv(\"data/high_credibility_websites_CoVaxxy_ver2.csv\")\n",
    "# debunking media\n",
    "db_df = pd.read_csv(\"data/(Merge_ver2)debunking_fact-checking_sites.csv\")"
   ]
  },
  {
   "cell_type": "code",
   "execution_count": 14,
   "metadata": {},
   "outputs": [],
   "source": [
    "# 给网址打标记\n",
    "fn_set = set(fn_df['Domain'])\n",
    "ms_set = set(ms_df['site'])\n",
    "db_set = set(db_df['domain'].dropna())\n",
    "db_re = '|'.join(db_set)\n",
    "\n",
    "df_urls['fake_news'] = ''\n",
    "df_urls['mainstream'] = ''\n",
    "df_urls['debunking'] = ''\n",
    "\n",
    "# 多进程地打标记\n",
    "def url_labeling(urls:pd.DataFrame, media, label:str):\n",
    "    '''\n",
    "    label = 'fake_news', 'mainstream' or 'debunking'\n",
    "    '''\n",
    "    if label != 'debunking':\n",
    "        for i in urls.index:\n",
    "            urls[label][i] = True if urls['domain'][i] in media else False\n",
    "    else:\n",
    "        for i in urls.index:\n",
    "            urls[label][i] = True if re.search(pattern=db_re, string=urls['reverted_url'][i]) else False\n",
    "            \n",
    "    return urls[label]\n",
    "\n",
    "# 多进程打标记\n",
    "import multiprocessing as mp\n",
    "from multiprocessing import Pool\n",
    "pool = Pool(processes=3)\n",
    "res_fn = pool.apply_async(url_labeling, (df_urls, fn_set, 'fake_news'))\n",
    "res_ms = pool.apply_async(url_labeling, (df_urls, ms_set, 'mainstream'))\n",
    "res_db = pool.apply_async(url_labeling, (df_urls, db_re, 'debunking'))\n",
    "pool.close()\n",
    "pool.join()"
   ]
  },
  {
   "cell_type": "code",
   "execution_count": null,
   "metadata": {},
   "outputs": [],
   "source": [
    "# 合并标记结果，保存文件\n",
    "df_urls_labeled = pd.concat([df_urls.loc[:, ['url','reverted_url','domain']], res_fn.get(), res_ms.get(), res_db.get()], axis=1)\n",
    "df_urls_labeled.to_csv(\"data/labeled_urls[topic=POTUS2020].csv\", index=False)"
   ]
  },
  {
   "cell_type": "markdown",
   "metadata": {},
   "source": [
    "测试"
   ]
  },
  {
   "cell_type": "code",
   "execution_count": 10,
   "metadata": {},
   "outputs": [
    {
     "name": "stderr",
     "output_type": "stream",
     "text": [
      "/home/shiqian/miniconda3/envs/py37/lib/python3.7/site-packages/IPython/core/interactiveshell.py:3457: DtypeWarning: Columns (25,27,28,29,31,39,41,42,43,49,65,67,68,69) have mixed types.Specify dtype option on import or set low_memory=False.\n",
      "  exec(code_obj, self.user_global_ns, self.user_ns)\n"
     ]
    }
   ],
   "source": [
    "import pandas as pd\n",
    "df = pd.read_csv(\"data/full_data[topic=POTUS2020].csv\")"
   ]
  },
  {
   "cell_type": "code",
   "execution_count": 11,
   "metadata": {},
   "outputs": [],
   "source": [
    "df2 = df[df['quoted_username'].notna()]"
   ]
  },
  {
   "cell_type": "code",
   "execution_count": 15,
   "metadata": {},
   "outputs": [],
   "source": [
    "df3 = df[df['in_reply_to_username'].notna()]"
   ]
  },
  {
   "cell_type": "code",
   "execution_count": 23,
   "metadata": {},
   "outputs": [],
   "source": [
    "df4 = df[df['retweeted_username'].notna()]"
   ]
  },
  {
   "cell_type": "code",
   "execution_count": 31,
   "metadata": {},
   "outputs": [
    {
     "data": {
      "text/html": [
       "<div>\n",
       "<style scoped>\n",
       "    .dataframe tbody tr th:only-of-type {\n",
       "        vertical-align: middle;\n",
       "    }\n",
       "\n",
       "    .dataframe tbody tr th {\n",
       "        vertical-align: top;\n",
       "    }\n",
       "\n",
       "    .dataframe thead th {\n",
       "        text-align: right;\n",
       "    }\n",
       "</style>\n",
       "<table border=\"1\" class=\"dataframe\">\n",
       "  <thead>\n",
       "    <tr style=\"text-align: right;\">\n",
       "      <th></th>\n",
       "      <th>id</th>\n",
       "      <th>referenced_tweets.quoted.id</th>\n",
       "      <th>quoted_username</th>\n",
       "      <th>author.username</th>\n",
       "      <th>text</th>\n",
       "    </tr>\n",
       "  </thead>\n",
       "  <tbody>\n",
       "    <tr>\n",
       "      <th>3</th>\n",
       "      <td>1352043207031484417</td>\n",
       "      <td>1.352017e+18</td>\n",
       "      <td>campbellclaret</td>\n",
       "      <td>TedDitchburnNNP</td>\n",
       "      <td>This sort of thing does nothing for commonsense...Biden is talking about Trump and the whole USA Fake News.....it's America, it's now &amp;amp; it's there....\\nOtherwise you may as well say he was talking about the dodgy dossier ..or anything and everything.. https://t.co/IQbSVfgLJE</td>\n",
       "    </tr>\n",
       "    <tr>\n",
       "      <th>41</th>\n",
       "      <td>1352042921264967680</td>\n",
       "      <td>1.352006e+18</td>\n",
       "      <td>NormOrnstein</td>\n",
       "      <td>naturewins21</td>\n",
       "      <td>Media needs to take responsibility for their complicity in spreading misinformation and elevating stupid faux \" scandals\" like tan suitgate . After 5 years of letting Trump literally get away with murder, they face a real reckoning. Media must redeem itself as a source of truth https://t.co/4cxkJRY7XU</td>\n",
       "    </tr>\n",
       "    <tr>\n",
       "      <th>64</th>\n",
       "      <td>1352042726964031489</td>\n",
       "      <td>1.352028e+18</td>\n",
       "      <td>sbg1</td>\n",
       "      <td>stowdynoman</td>\n",
       "      <td>Just go over the campaign season and fact check Biden and Harris. Then fact check the news coverage of Hunter laptop story. The news media lied. It hard to fact check many things because the news media just refused to cover them. https://t.co/ttG2UaBTpu</td>\n",
       "    </tr>\n",
       "    <tr>\n",
       "      <th>89</th>\n",
       "      <td>1352042568620638209</td>\n",
       "      <td>1.347756e+18</td>\n",
       "      <td>JORGE_C_NY</td>\n",
       "      <td>cousy</td>\n",
       "      <td>The snake story told EVERYONE. I wrote about it three years ago. The \"fake news\" ignored it. From a psychological point of view, it was the MOST OBVIOUS THING IN THE WORLD: that the snake would KILL THE BEAUTIFUL LADY (America). Projection: not the immigrants, but DONALD TRUMP. https://t.co/eFIEAPepSx</td>\n",
       "    </tr>\n",
       "    <tr>\n",
       "      <th>144</th>\n",
       "      <td>1352042061650948103</td>\n",
       "      <td>1.351847e+18</td>\n",
       "      <td>nytimes</td>\n",
       "      <td>LadyBookworm117</td>\n",
       "      <td>If people feel Trump was everywhere it is because the biased Liberal media put him there. Our 24/7 news cycle has spent the last 4 years promoting Democrats and bashing Trump. The media didn't care about facts as much as click bait and propaganda. Fake news lives! https://t.co/KqU33zXPv6</td>\n",
       "    </tr>\n",
       "  </tbody>\n",
       "</table>\n",
       "</div>"
      ],
      "text/plain": [
       "                      id  referenced_tweets.quoted.id quoted_username  \\\n",
       "3    1352043207031484417                 1.352017e+18  campbellclaret   \n",
       "41   1352042921264967680                 1.352006e+18    NormOrnstein   \n",
       "64   1352042726964031489                 1.352028e+18            sbg1   \n",
       "89   1352042568620638209                 1.347756e+18      JORGE_C_NY   \n",
       "144  1352042061650948103                 1.351847e+18         nytimes   \n",
       "\n",
       "     author.username  \\\n",
       "3    TedDitchburnNNP   \n",
       "41      naturewins21   \n",
       "64       stowdynoman   \n",
       "89             cousy   \n",
       "144  LadyBookworm117   \n",
       "\n",
       "                                                                                                                                                                                                                                                                                                               text  \n",
       "3                           This sort of thing does nothing for commonsense...Biden is talking about Trump and the whole USA Fake News.....it's America, it's now &amp; it's there....\\nOtherwise you may as well say he was talking about the dodgy dossier ..or anything and everything.. https://t.co/IQbSVfgLJE  \n",
       "41   Media needs to take responsibility for their complicity in spreading misinformation and elevating stupid faux \" scandals\" like tan suitgate . After 5 years of letting Trump literally get away with murder, they face a real reckoning. Media must redeem itself as a source of truth https://t.co/4cxkJRY7XU  \n",
       "64                                                    Just go over the campaign season and fact check Biden and Harris. Then fact check the news coverage of Hunter laptop story. The news media lied. It hard to fact check many things because the news media just refused to cover them. https://t.co/ttG2UaBTpu  \n",
       "89   The snake story told EVERYONE. I wrote about it three years ago. The \"fake news\" ignored it. From a psychological point of view, it was the MOST OBVIOUS THING IN THE WORLD: that the snake would KILL THE BEAUTIFUL LADY (America). Projection: not the immigrants, but DONALD TRUMP. https://t.co/eFIEAPepSx  \n",
       "144                If people feel Trump was everywhere it is because the biased Liberal media put him there. Our 24/7 news cycle has spent the last 4 years promoting Democrats and bashing Trump. The media didn't care about facts as much as click bait and propaganda. Fake news lives! https://t.co/KqU33zXPv6  "
      ]
     },
     "execution_count": 31,
     "metadata": {},
     "output_type": "execute_result"
    }
   ],
   "source": [
    "df2.loc[:, ['id','referenced_tweets.quoted.id','quoted_username','author.username','text']].head()"
   ]
  },
  {
   "cell_type": "code",
   "execution_count": 34,
   "metadata": {},
   "outputs": [
    {
     "data": {
      "text/html": [
       "<div>\n",
       "<style scoped>\n",
       "    .dataframe tbody tr th:only-of-type {\n",
       "        vertical-align: middle;\n",
       "    }\n",
       "\n",
       "    .dataframe tbody tr th {\n",
       "        vertical-align: top;\n",
       "    }\n",
       "\n",
       "    .dataframe thead th {\n",
       "        text-align: right;\n",
       "    }\n",
       "</style>\n",
       "<table border=\"1\" class=\"dataframe\">\n",
       "  <thead>\n",
       "    <tr style=\"text-align: right;\">\n",
       "      <th></th>\n",
       "      <th>id</th>\n",
       "      <th>referenced_tweets.replied_to.id</th>\n",
       "      <th>in_reply_to_username</th>\n",
       "      <th>author.username</th>\n",
       "      <th>text</th>\n",
       "    </tr>\n",
       "  </thead>\n",
       "  <tbody>\n",
       "    <tr>\n",
       "      <th>7</th>\n",
       "      <td>1352043184403091457</td>\n",
       "      <td>1.352042e+18</td>\n",
       "      <td>earleyedition</td>\n",
       "      <td>earleyedition</td>\n",
       "      <td>won't \"lecture\" Trump on inciting insurrection, won't \"lecture\" Craig Kelly on spreading lies and misinformation during a global pandemic. \\n\\nBut Cricket Australia dropping Australia Day references, now that's a lecturing\\nhttps://t.co/okP8aOLkh5</td>\n",
       "    </tr>\n",
       "    <tr>\n",
       "      <th>13</th>\n",
       "      <td>1352043150022500353</td>\n",
       "      <td>1.352027e+18</td>\n",
       "      <td>PatrickByrne</td>\n",
       "      <td>JamesDavidNY</td>\n",
       "      <td>@PatrickByrne All that shit was bullshit. Vatican,Italy  Afghanistan blackout , It was misinformation designed to keep up quelled and run the clock down\\nFrom Flynn, Q, parks, to Pompeo, all of them had their part in keeping 80 mill under a fake spell of optimism to run out the clock for Biden</td>\n",
       "    </tr>\n",
       "    <tr>\n",
       "      <th>20</th>\n",
       "      <td>1352043117134938113</td>\n",
       "      <td>1.351935e+18</td>\n",
       "      <td>MSNBC</td>\n",
       "      <td>AmyScharn</td>\n",
       "      <td>@MSNBC I want headlines to read....Fake News falls the people want facts not one sided opinions. Bet you will never force Biden to answer for his sons crimes which he was also played a role in.</td>\n",
       "    </tr>\n",
       "    <tr>\n",
       "      <th>49</th>\n",
       "      <td>1352042858472222720</td>\n",
       "      <td>1.352041e+18</td>\n",
       "      <td>AdamGer13430857</td>\n",
       "      <td>AdamGer13430857</td>\n",
       "      <td>@FrankOw42152567 @graaff_q @PeterlinMary @InesdLC \"vote count in Michigan during the night of Nov. 3 to Nov. 4,  Biden received 153,710 votes in Shiawassee County, instead of 15,371,\"\\n\\n ⬆️This from Reuters fact check that says fraud was baseless, Most MSM said same just 24 hours after election without even time to investigate.</td>\n",
       "    </tr>\n",
       "    <tr>\n",
       "      <th>53</th>\n",
       "      <td>1352042813836435458</td>\n",
       "      <td>1.351908e+18</td>\n",
       "      <td>Populiste63</td>\n",
       "      <td>GlenSteen</td>\n",
       "      <td>@Populiste63 @nytimes How much damage did #Trump do as #President?\\nAmerican economist says Trump was a threat to the World Order at the Vatican.\\nCopy &amp;amp; past in browser.\\nfile:///C:/Users/SteenG/Downloads/USA%20is%20a%20threat%20to%20world%20order.mp4\\nYou'll call this 'fake news' like he told you to do!</td>\n",
       "    </tr>\n",
       "  </tbody>\n",
       "</table>\n",
       "</div>"
      ],
      "text/plain": [
       "                     id  referenced_tweets.replied_to.id in_reply_to_username  \\\n",
       "7   1352043184403091457                     1.352042e+18        earleyedition   \n",
       "13  1352043150022500353                     1.352027e+18         PatrickByrne   \n",
       "20  1352043117134938113                     1.351935e+18                MSNBC   \n",
       "49  1352042858472222720                     1.352041e+18      AdamGer13430857   \n",
       "53  1352042813836435458                     1.351908e+18          Populiste63   \n",
       "\n",
       "    author.username  \\\n",
       "7     earleyedition   \n",
       "13     JamesDavidNY   \n",
       "20        AmyScharn   \n",
       "49  AdamGer13430857   \n",
       "53        GlenSteen   \n",
       "\n",
       "                                                                                                                                                                                                                                                                                                                                          text  \n",
       "7                                                                                      won't \"lecture\" Trump on inciting insurrection, won't \"lecture\" Craig Kelly on spreading lies and misinformation during a global pandemic. \\n\\nBut Cricket Australia dropping Australia Day references, now that's a lecturing\\nhttps://t.co/okP8aOLkh5  \n",
       "13                                      @PatrickByrne All that shit was bullshit. Vatican,Italy  Afghanistan blackout , It was misinformation designed to keep up quelled and run the clock down\\nFrom Flynn, Q, parks, to Pompeo, all of them had their part in keeping 80 mill under a fake spell of optimism to run out the clock for Biden  \n",
       "20                                                                                                                                           @MSNBC I want headlines to read....Fake News falls the people want facts not one sided opinions. Bet you will never force Biden to answer for his sons crimes which he was also played a role in.  \n",
       "49  @FrankOw42152567 @graaff_q @PeterlinMary @InesdLC \"vote count in Michigan during the night of Nov. 3 to Nov. 4,  Biden received 153,710 votes in Shiawassee County, instead of 15,371,\"\\n\\n ⬆️This from Reuters fact check that says fraud was baseless, Most MSM said same just 24 hours after election without even time to investigate.  \n",
       "53                      @Populiste63 @nytimes How much damage did #Trump do as #President?\\nAmerican economist says Trump was a threat to the World Order at the Vatican.\\nCopy &amp; past in browser.\\nfile:///C:/Users/SteenG/Downloads/USA%20is%20a%20threat%20to%20world%20order.mp4\\nYou'll call this 'fake news' like he told you to do!  "
      ]
     },
     "execution_count": 34,
     "metadata": {},
     "output_type": "execute_result"
    }
   ],
   "source": [
    "df3.loc[:, ['id','referenced_tweets.replied_to.id','in_reply_to_username','author.username','text']].head()"
   ]
  },
  {
   "cell_type": "code",
   "execution_count": 33,
   "metadata": {},
   "outputs": [
    {
     "data": {
      "text/html": [
       "<div>\n",
       "<style scoped>\n",
       "    .dataframe tbody tr th:only-of-type {\n",
       "        vertical-align: middle;\n",
       "    }\n",
       "\n",
       "    .dataframe tbody tr th {\n",
       "        vertical-align: top;\n",
       "    }\n",
       "\n",
       "    .dataframe thead th {\n",
       "        text-align: right;\n",
       "    }\n",
       "</style>\n",
       "<table border=\"1\" class=\"dataframe\">\n",
       "  <thead>\n",
       "    <tr style=\"text-align: right;\">\n",
       "      <th></th>\n",
       "      <th>id</th>\n",
       "      <th>referenced_tweets.retweeted.id</th>\n",
       "      <th>retweeted_username</th>\n",
       "      <th>author.username</th>\n",
       "      <th>text</th>\n",
       "    </tr>\n",
       "  </thead>\n",
       "  <tbody>\n",
       "    <tr>\n",
       "      <th>1</th>\n",
       "      <td>1352043224383291393</td>\n",
       "      <td>1.352042e+18</td>\n",
       "      <td>jeremynewberger</td>\n",
       "      <td>1brooklyn13</td>\n",
       "      <td>In other words, that SLEEPY JOE nonsense you and your one term twice impeached golden boy, who incited an insurrection at our US Capitol, have been spinning on your nightly show for years was all as fake news as fake news can be. Your guy couldn't even walk down a ramp.</td>\n",
       "    </tr>\n",
       "    <tr>\n",
       "      <th>2</th>\n",
       "      <td>1352043223393435648</td>\n",
       "      <td>1.351985e+18</td>\n",
       "      <td>KimMangone</td>\n",
       "      <td>bresla_linda</td>\n",
       "      <td>Kevin McCarthy congratulated Biden and Harris as if he didn’t spend the past year stoking fear and election misinformation. Retweet if you won’t forget.</td>\n",
       "    </tr>\n",
       "    <tr>\n",
       "      <th>4</th>\n",
       "      <td>1352043202761601029</td>\n",
       "      <td>1.352025e+18</td>\n",
       "      <td>JohnSimpsonNews</td>\n",
       "      <td>IITommoII</td>\n",
       "      <td>In case you didn’t see it, the Washington Post’s Trump fact-checkers say that in his 4 years as President, Donald Trump made 30,573 false or misleading claims.    That’s roughly 20 every single day.</td>\n",
       "    </tr>\n",
       "    <tr>\n",
       "      <th>5</th>\n",
       "      <td>1352043193207037961</td>\n",
       "      <td>1.352042e+18</td>\n",
       "      <td>jeremynewberger</td>\n",
       "      <td>AliAdair22</td>\n",
       "      <td>In other words, that SLEEPY JOE nonsense you and your one term twice impeached golden boy, who incited an insurrection at our US Capitol, have been spinning on your nightly show for years was all as fake news as fake news can be. Your guy couldn't even walk down a ramp.</td>\n",
       "    </tr>\n",
       "    <tr>\n",
       "      <th>6</th>\n",
       "      <td>1352043191210545160</td>\n",
       "      <td>1.352025e+18</td>\n",
       "      <td>JohnSimpsonNews</td>\n",
       "      <td>GrayMacklin</td>\n",
       "      <td>In case you didn’t see it, the Washington Post’s Trump fact-checkers say that in his 4 years as President, Donald Trump made 30,573 false or misleading claims.    That’s roughly 20 every single day.</td>\n",
       "    </tr>\n",
       "  </tbody>\n",
       "</table>\n",
       "</div>"
      ],
      "text/plain": [
       "                    id  referenced_tweets.retweeted.id retweeted_username  \\\n",
       "1  1352043224383291393                    1.352042e+18    jeremynewberger   \n",
       "2  1352043223393435648                    1.351985e+18         KimMangone   \n",
       "4  1352043202761601029                    1.352025e+18    JohnSimpsonNews   \n",
       "5  1352043193207037961                    1.352042e+18    jeremynewberger   \n",
       "6  1352043191210545160                    1.352025e+18    JohnSimpsonNews   \n",
       "\n",
       "  author.username  \\\n",
       "1     1brooklyn13   \n",
       "2    bresla_linda   \n",
       "4       IITommoII   \n",
       "5      AliAdair22   \n",
       "6     GrayMacklin   \n",
       "\n",
       "                                                                                                                                                                                                                                                                             text  \n",
       "1  In other words, that SLEEPY JOE nonsense you and your one term twice impeached golden boy, who incited an insurrection at our US Capitol, have been spinning on your nightly show for years was all as fake news as fake news can be. Your guy couldn't even walk down a ramp.  \n",
       "2                                                                                                                        Kevin McCarthy congratulated Biden and Harris as if he didn’t spend the past year stoking fear and election misinformation. Retweet if you won’t forget.  \n",
       "4                                                                          In case you didn’t see it, the Washington Post’s Trump fact-checkers say that in his 4 years as President, Donald Trump made 30,573 false or misleading claims.    That’s roughly 20 every single day.  \n",
       "5  In other words, that SLEEPY JOE nonsense you and your one term twice impeached golden boy, who incited an insurrection at our US Capitol, have been spinning on your nightly show for years was all as fake news as fake news can be. Your guy couldn't even walk down a ramp.  \n",
       "6                                                                          In case you didn’t see it, the Washington Post’s Trump fact-checkers say that in his 4 years as President, Donald Trump made 30,573 false or misleading claims.    That’s roughly 20 every single day.  "
      ]
     },
     "execution_count": 33,
     "metadata": {},
     "output_type": "execute_result"
    }
   ],
   "source": [
    "df4.loc[:, ['id','referenced_tweets.retweeted.id','retweeted_username','author.username','text']].head()"
   ]
  },
  {
   "cell_type": "code",
   "execution_count": 21,
   "metadata": {},
   "outputs": [
    {
     "name": "stdout",
     "output_type": "stream",
     "text": [
      "1.3520423179228406e+18\n"
     ]
    }
   ],
   "source": [
    "print(str(df3['referenced_tweets.replied_to.id'][7]))"
   ]
  }
 ],
 "metadata": {
  "kernelspec": {
   "display_name": "py37",
   "language": "python",
   "name": "python3"
  },
  "language_info": {
   "codemirror_mode": {
    "name": "ipython",
    "version": 3
   },
   "file_extension": ".py",
   "mimetype": "text/x-python",
   "name": "python",
   "nbconvert_exporter": "python",
   "pygments_lexer": "ipython3",
   "version": "3.7.16"
  }
 },
 "nbformat": 4,
 "nbformat_minor": 2
}
