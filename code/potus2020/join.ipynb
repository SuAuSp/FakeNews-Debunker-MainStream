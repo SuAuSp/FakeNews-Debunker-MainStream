{
 "cells": [
  {
   "cell_type": "code",
   "execution_count": 1,
   "metadata": {},
   "outputs": [],
   "source": [
    "import pandas as pd\n",
    "import numpy as np\n",
    "import statsmodels.api as sm\n",
    "import seaborn as sns\n",
    "import re\n",
    "import json\n",
    "from joblib import dump, load\n",
    "import matplotlib.pyplot as plt\n",
    "import warnings\n",
    "warnings.filterwarnings('ignore')\n",
    "\n",
    "%matplotlib inline"
   ]
  },
  {
   "cell_type": "code",
   "execution_count": 11,
   "metadata": {},
   "outputs": [],
   "source": [
    "# df = pd.read_csv(\"low_point_messages[retweet].csv\",index_col=0)\n",
    "# # 这边几乎保留了所有文本内容,除了url"
   ]
  },
  {
   "cell_type": "code",
   "execution_count": 5,
   "metadata": {},
   "outputs": [],
   "source": [
    "points = pd.read_csv(\"data/up_points.csv\")\n",
    "retweets_3media = pd.read_csv(\"data/3media_retweets[topic=POTUS2020].csv\")\n",
    "df = retweets_3media[retweets_3media['author.username'].isin(points['Id'])]"
   ]
  },
  {
   "cell_type": "code",
   "execution_count": 6,
   "metadata": {},
   "outputs": [
    {
     "data": {
      "text/plain": [
       "20         “i would roll over in bed, turn off my alarm, ...\n",
       "72         new: one last time (as president): fact-checki...\n",
       "83         fact check: true to form, president trump make...\n",
       "97         fact check: true to form, president trump make...\n",
       "119        \"on one america news, viewers saw a lengthy do...\n",
       "                                 ...                        \n",
       "1140822    not watching the speech but this remains a lie...\n",
       "1140846    new: on the eve of the democratic convention, ...\n",
       "1140876    \"president donald trump on sunday night retwee...\n",
       "1140884    new: on the eve of the democratic convention, ...\n",
       "1140890    \"president donald trump on sunday night retwee...\n",
       "Name: text, Length: 90477, dtype: object"
      ]
     },
     "execution_count": 6,
     "metadata": {},
     "output_type": "execute_result"
    }
   ],
   "source": [
    "import string\n",
    "\n",
    "def wordopt(text):\n",
    "    text = text.lower()\n",
    "    # text = re.sub('\\\\n', '', text) # 删除换行符\n",
    "    # text = re.sub('\\[.*?\\]', '', text) # 去掉中括号括起来的字符串\n",
    "    text = re.sub('https?://\\S+|www\\.\\S+', '', text) # 去掉网址\n",
    "    # text = re.sub(\"\\\\W\",\" \",text) # 去掉非单词字符\n",
    "    # text = re.sub('<.*?>+', '', text) # 去掉HTML, XML标签\n",
    "    # text = re.sub('[%s]' % re.escape(string.punctuation), '', text) # 将文本中所有标点符号删除\n",
    "    # text = re.sub('\\n', '', text) # 删除换行符\n",
    "    # text = re.sub('\\w*\\d\\w*', '', text) # 删除字母数字混合的“单词”\n",
    "    return text\n",
    "\n",
    "df['text'] = df.text.apply(lambda x : wordopt(x))\n",
    "df['text']"
   ]
  },
  {
   "cell_type": "code",
   "execution_count": 7,
   "metadata": {},
   "outputs": [],
   "source": [
    "user_texts = df.groupby(by='author.username').agg(text=(\"text\", lambda x: \"\\n\".join(set(x))))\n",
    "user_texts.reset_index(drop=False, inplace=True)\n",
    "user_texts.to_csv(\"up_point_messages[all][agg].csv\", index=False)"
   ]
  }
 ],
 "metadata": {
  "kernelspec": {
   "display_name": "ModelBuild",
   "language": "python",
   "name": "python3"
  },
  "language_info": {
   "codemirror_mode": {
    "name": "ipython",
    "version": 3
   },
   "file_extension": ".py",
   "mimetype": "text/x-python",
   "name": "python",
   "nbconvert_exporter": "python",
   "pygments_lexer": "ipython3",
   "version": "3.7.0"
  }
 },
 "nbformat": 4,
 "nbformat_minor": 2
}
