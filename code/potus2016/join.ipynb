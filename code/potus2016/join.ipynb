{
 "cells": [
  {
   "cell_type": "code",
   "execution_count": 1,
   "metadata": {},
   "outputs": [],
   "source": [
    "import pandas as pd\n",
    "import numpy as np\n",
    "import statsmodels.api as sm\n",
    "import seaborn as sns\n",
    "import re\n",
    "import json\n",
    "from joblib import dump, load\n",
    "import matplotlib.pyplot as plt\n",
    "import warnings\n",
    "warnings.filterwarnings('ignore')\n",
    "\n",
    "%matplotlib inline"
   ]
  },
  {
   "cell_type": "code",
   "execution_count": 11,
   "metadata": {},
   "outputs": [],
   "source": [
    "# df = pd.read_csv(\"low_point_messages[retweet].csv\",index_col=0)\n",
    "# # 这边几乎保留了所有文本内容,除了url"
   ]
  },
  {
   "cell_type": "code",
   "execution_count": 12,
   "metadata": {},
   "outputs": [],
   "source": [
    "points = pd.read_csv(\"data/low_points.csv\")\n",
    "retweets_3media = pd.read_csv(\"data/3media_retweets[topic=POTUS2016][time=16.10.10-16.12.19][lang=en].csv\")\n",
    "df = retweets_3media[retweets_3media['author.username'].isin(points['Id'])]"
   ]
  },
  {
   "cell_type": "code",
   "execution_count": 14,
   "metadata": {},
   "outputs": [
    {
     "data": {
      "text/plain": [
       "11        live fact-check: clinton is right. analysts sa...\n",
       "28        comparing donald trump and hillary clinton on ...\n",
       "54        live fact-check: clinton is right. analysts sa...\n",
       "72        comparing donald trump and hillary clinton on ...\n",
       "131       comparing donald trump and hillary clinton on ...\n",
       "                                ...                        \n",
       "156175    so i made a chrome extension that slips contex...\n",
       "157584    thanks to the great people at @washingtonpost ...\n",
       "157860    you can now fact check @realdonaldtrump's twee...\n",
       "161029    the washington post has a cool new chrome exte...\n",
       "166521    example: trump claimed the unemployment rate w...\n",
       "Name: text, Length: 1091, dtype: object"
      ]
     },
     "execution_count": 14,
     "metadata": {},
     "output_type": "execute_result"
    }
   ],
   "source": [
    "import string\n",
    "\n",
    "def wordopt(text):\n",
    "    text = text.lower()\n",
    "    # text = re.sub('\\\\n', '', text) # 删除换行符\n",
    "    # text = re.sub('\\[.*?\\]', '', text) # 去掉中括号括起来的字符串\n",
    "    text = re.sub('https?://\\S+|www\\.\\S+', '', text) # 去掉网址\n",
    "    # text = re.sub(\"\\\\W\",\" \",text) # 去掉非单词字符\n",
    "    # text = re.sub('<.*?>+', '', text) # 去掉HTML, XML标签\n",
    "    # text = re.sub('[%s]' % re.escape(string.punctuation), '', text) # 将文本中所有标点符号删除\n",
    "    # text = re.sub('\\n', '', text) # 删除换行符\n",
    "    # text = re.sub('\\w*\\d\\w*', '', text) # 删除字母数字混合的“单词”\n",
    "    return text\n",
    "\n",
    "df['text'] = df.text.apply(lambda x : wordopt(x))\n",
    "df['text']"
   ]
  },
  {
   "cell_type": "code",
   "execution_count": 15,
   "metadata": {},
   "outputs": [],
   "source": [
    "user_texts = df.groupby(by='author.username').agg(text=(\"text\", lambda x: \"\\n\".join(set(x))))\n",
    "user_texts.reset_index(drop=False, inplace=True)\n",
    "user_texts.to_csv(\"low_point_messages[all][agg].csv\", index=False)"
   ]
  }
 ],
 "metadata": {
  "kernelspec": {
   "display_name": "ModelBuild",
   "language": "python",
   "name": "python3"
  },
  "language_info": {
   "codemirror_mode": {
    "name": "ipython",
    "version": 3
   },
   "file_extension": ".py",
   "mimetype": "text/x-python",
   "name": "python",
   "nbconvert_exporter": "python",
   "pygments_lexer": "ipython3",
   "version": "3.7.16"
  }
 },
 "nbformat": 4,
 "nbformat_minor": 2
}
