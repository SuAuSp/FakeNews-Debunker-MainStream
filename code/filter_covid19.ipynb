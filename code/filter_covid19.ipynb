{
 "cells": [
  {
   "cell_type": "code",
   "execution_count": 2,
   "id": "31a0bc5f-e7dc-4029-812d-c5bc48996681",
   "metadata": {},
   "outputs": [],
   "source": [
    "import pandas as pd"
   ]
  },
  {
   "cell_type": "code",
   "execution_count": null,
   "id": "119c5060-b60a-47fd-bef5-73b86d2867e3",
   "metadata": {},
   "outputs": [],
   "source": [
    "key_words = ['wuhanpneumonia','COVID19','coronavirus','corona virus','2019-nCoV','SARS-CoV-2']"
   ]
  },
  {
   "cell_type": "code",
   "execution_count": null,
   "id": "52fbd779-2887-48e3-815f-90692b07ce04",
   "metadata": {},
   "outputs": [],
   "source": [
    "# 处理从n到27的csv原文件\n",
    "# '''\n",
    "n = 10\n",
    "for i in [n + i for i in range(27-n+1)]:\n",
    "    df = pd.read_csv(\"/mnt/data/Project7/fakenews/csv/\" + str(i) + \".csv\")\n",
    "    df_f1 = df[df['text'].str.contains('|'.join(key_words), case=False)]  # \n",
    "    df_f2 = df[df['entities.hashtags'].astype(str).str.contains('|'.join(key_words), case=False)]\n",
    "    df_cat = pd.concat([df_f1,df_f2], axis=0, join='inner')\n",
    "    df_cat.sort_index(axis=0, ascending=True, inplace=True)\n",
    "    df_cat.drop_duplicates(subset='id', keep='first', inplace=True)\n",
    "    df_cat.to_csv(\"/mnt/data/shiqian/csv_filtered/\" + str(i) + \"_filtered.csv\")\n",
    " '''"
   ]
  },
  {
   "cell_type": "code",
   "execution_count": 3,
   "id": "5944f624-6a15-4e97-bb66-cb7978263d96",
   "metadata": {
    "scrolled": true
   },
   "outputs": [
    {
     "name": "stderr",
     "output_type": "stream",
     "text": [
      "/home/shiqian/miniconda3/envs/py37/lib/python3.7/site-packages/IPython/core/interactiveshell.py:3457: DtypeWarning: Columns (26,28,29,30,32,40,42,43,44,66,68,69,70) have mixed types.Specify dtype option on import or set low_memory=False.\n",
      "  exec(code_obj, self.user_global_ns, self.user_ns)\n",
      "/home/shiqian/miniconda3/envs/py37/lib/python3.7/site-packages/IPython/core/interactiveshell.py:3457: DtypeWarning: Columns (26,29,30,32,40,42,43,44,68,69,70) have mixed types.Specify dtype option on import or set low_memory=False.\n",
      "  exec(code_obj, self.user_global_ns, self.user_ns)\n",
      "/home/shiqian/miniconda3/envs/py37/lib/python3.7/site-packages/IPython/core/interactiveshell.py:3457: DtypeWarning: Columns (26,29,30,32,40,42,43,44,50,68,69,70) have mixed types.Specify dtype option on import or set low_memory=False.\n",
      "  exec(code_obj, self.user_global_ns, self.user_ns)\n",
      "/home/shiqian/miniconda3/envs/py37/lib/python3.7/site-packages/IPython/core/interactiveshell.py:3457: DtypeWarning: Columns (29,30,32,40,42,43,44,68,69,70) have mixed types.Specify dtype option on import or set low_memory=False.\n",
      "  exec(code_obj, self.user_global_ns, self.user_ns)\n",
      "/home/shiqian/miniconda3/envs/py37/lib/python3.7/site-packages/IPython/core/interactiveshell.py:3457: DtypeWarning: Columns (29,30,32,40,42,43,44,50,68,69,70) have mixed types.Specify dtype option on import or set low_memory=False.\n",
      "  exec(code_obj, self.user_global_ns, self.user_ns)\n",
      "/home/shiqian/miniconda3/envs/py37/lib/python3.7/site-packages/IPython/core/interactiveshell.py:3457: DtypeWarning: Columns (29,30,40,42,43,44,68,69,70) have mixed types.Specify dtype option on import or set low_memory=False.\n",
      "  exec(code_obj, self.user_global_ns, self.user_ns)\n",
      "/home/shiqian/miniconda3/envs/py37/lib/python3.7/site-packages/IPython/core/interactiveshell.py:3457: DtypeWarning: Columns (29,30,32,40,42,43,44,68) have mixed types.Specify dtype option on import or set low_memory=False.\n",
      "  exec(code_obj, self.user_global_ns, self.user_ns)\n",
      "/home/shiqian/miniconda3/envs/py37/lib/python3.7/site-packages/IPython/core/interactiveshell.py:3457: DtypeWarning: Columns (32,40,42,43,44,50) have mixed types.Specify dtype option on import or set low_memory=False.\n",
      "  exec(code_obj, self.user_global_ns, self.user_ns)\n",
      "/home/shiqian/miniconda3/envs/py37/lib/python3.7/site-packages/IPython/core/interactiveshell.py:3457: DtypeWarning: Columns (32) have mixed types.Specify dtype option on import or set low_memory=False.\n",
      "  exec(code_obj, self.user_global_ns, self.user_ns)\n",
      "/home/shiqian/miniconda3/envs/py37/lib/python3.7/site-packages/IPython/core/interactiveshell.py:3457: DtypeWarning: Columns (29,30,32,68) have mixed types.Specify dtype option on import or set low_memory=False.\n",
      "  exec(code_obj, self.user_global_ns, self.user_ns)\n"
     ]
    }
   ],
   "source": [
    "# 计数从m到27的csv文件的数据量\n",
    "# '''\n",
    "m = 9\n",
    "nlist = []\n",
    "for i in [m + i for i in range(27-m+1)]:\n",
    "    df_f = pd.read_csv(\"/mnt/data/shiqian/csv_filtered/\" + str(i) + \"_filtered.csv\")\n",
    "    nlist.append(df_f.shape[0])\n",
    "# '''"
   ]
  },
  {
   "cell_type": "code",
   "execution_count": 4,
   "id": "7bebcc12-43e1-4a0a-87f7-04893bba92c7",
   "metadata": {},
   "outputs": [
    {
     "name": "stdout",
     "output_type": "stream",
     "text": [
      "[1626, 1158806, 977503, 181577, 296691, 236248, 128379, 123505, 116135, 162247, 122313, 82852, 71317, 32238, 27998, 16920, 11929, 27568, 32487]\n"
     ]
    }
   ],
   "source": [
    "print(nlist)"
   ]
  },
  {
   "cell_type": "code",
   "execution_count": 5,
   "id": "99add9ba-1693-4dc7-8f41-d0576bdc621e",
   "metadata": {},
   "outputs": [
    {
     "name": "stdout",
     "output_type": "stream",
     "text": [
      "3808339\n"
     ]
    }
   ],
   "source": [
    "print(sum(nlist))"
   ]
  }
 ],
 "metadata": {
  "kernelspec": {
   "display_name": "py37",
   "language": "python",
   "name": "py37"
  },
  "language_info": {
   "codemirror_mode": {
    "name": "ipython",
    "version": 3
   },
   "file_extension": ".py",
   "mimetype": "text/x-python",
   "name": "python",
   "nbconvert_exporter": "python",
   "pygments_lexer": "ipython3",
   "version": "3.7.16"
  }
 },
 "nbformat": 4,
 "nbformat_minor": 5
}
