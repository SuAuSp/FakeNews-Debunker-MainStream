{
 "cells": [
  {
   "cell_type": "markdown",
   "metadata": {},
   "source": [
    "# Deal with Data"
   ]
  },
  {
   "cell_type": "markdown",
   "metadata": {},
   "source": [
    "## 1. 处理最初的数据集"
   ]
  },
  {
   "cell_type": "code",
   "execution_count": 1,
   "metadata": {},
   "outputs": [],
   "source": [
    "import pandas as pd\n",
    "import matplotlib.pyplot as plt\n",
    "import os\n",
    "import re\n",
    "\n",
    "url = '/mnt/data/Project7/fakenews/csv/'\n",
    "# 将时间局限在事件范围内的所有帖子都取出来.\n",
    "# 这一步可能需要使用肉眼来观察这个时间的范围\n",
    "# 可以通过 create_at 这个属性来看到这个帖子的发布时间"
   ]
  },
  {
   "cell_type": "code",
   "execution_count": 2,
   "metadata": {},
   "outputs": [
    {
     "name": "stderr",
     "output_type": "stream",
     "text": [
      "/home/shiqian/miniconda3/envs/py37/lib/python3.7/site-packages/IPython/core/interactiveshell.py:3457: DtypeWarning: Columns (25,27,28,29,31,39,41,42,43,49,65,67,68,69) have mixed types.Specify dtype option on import or set low_memory=False.\n",
      "  exec(code_obj, self.user_global_ns, self.user_ns)\n"
     ]
    }
   ],
   "source": [
    "# df9 = pd.read_csv(url+'9.csv') # or 2.csv 3.csv...取决去topic所选择的时间\n",
    "# # 需要通过 create_at 这个属性来看到这个帖子的发布时间,然后选择出这个时间段的所有数据\n",
    "# # 当然也可以通过最开始 选择限定时间数据集的方法来限定时间"
   ]
  },
  {
   "cell_type": "code",
   "execution_count": 2,
   "metadata": {},
   "outputs": [],
   "source": [
    "# 选择出相应的人群\n",
    "high = pd.read_csv('data/up_points.csv',index_col=0)['Id'].to_list()\n",
    "low = pd.read_csv('data/low_points.csv',index_col=0)['Id'].to_list()"
   ]
  },
  {
   "cell_type": "code",
   "execution_count": 3,
   "metadata": {},
   "outputs": [],
   "source": [
    "def filter_data_by_users(df:pd.DataFrame, userlist: list ,title:str):\n",
    "    \"\"\"\n",
    "    df: 为限定完时间段的数据集\n",
    "    userlist: 为峰的user名单\n",
    "    title: 命名名单,保存为 'users[title]][alltweets].csv'\n",
    "    \"\"\"\n",
    "    df = df[df['author.username'].isin(userlist)]\n",
    "    df = df[['id','conversation_id','author.username','referenced_tweets.replied_to.id','referenced_tweets.retweeted.id','referenced_tweets.quoted.id','text']]\n",
    "    # df.to_csv(f'users[{title}]][alltweets].csv')\n",
    "    return df\n",
    "\n",
    "def filter_author_tweet(df:pd.DataFrame) -> pd.DataFrame:\n",
    "    \"\"\"\n",
    "    筛选出users们中texts中, 其中他们发布的帖子\n",
    "    返回其发帖的dataframe\n",
    "    \"\"\"\n",
    "    df_only_author = df[df['referenced_tweets.retweeted.id'].isna()]\n",
    "    df_only_author = df_only_author[df_only_author['referenced_tweets.quoted.id'].isna()]\n",
    "    df_only_author = df_only_author[df_only_author['referenced_tweets.replied_to.id'].isna()]\n",
    "    return df_only_author\n",
    "\n",
    "def filter_url(df:pd.DataFrame) -> pd.DataFrame:\n",
    "    \"\"\"\n",
    "    对其发帖中的url进行处理, 删去其中的url\n",
    "    \"\"\"\n",
    "    def wordopt(text):\n",
    "        text = text.lower()\n",
    "        # text = re.sub('\\\\n', '', text) # 删除换行符\n",
    "        # text = re.sub('\\[.*?\\]', '', text) # 去掉中括号括起来的字符串\n",
    "        text = re.sub('https?://\\S+|www\\.\\S+', '', text) # 去掉网址\n",
    "        # text = re.sub(\"\\\\W\",\" \",text) # 去掉非单词字符\n",
    "        # text = re.sub('<.*?>+', '', text) # 去掉HTML, XML标签\n",
    "        # text = re.sub('[%s]' % re.escape(string.punctuation), '', text) # 将文本中所有标点符号删除\n",
    "        # text = re.sub('\\n', '', text) # 删除换行符\n",
    "        # text = re.sub('\\w*\\d\\w*', '', text) # 删除字母数字混合的“单词”\n",
    "        return text\n",
    "    \n",
    "    df['text'] = df.text.apply(lambda x : wordopt(x))\n",
    "    return df\n",
    "\n",
    "def agg_text(df:pd.DataFrame, title:str) -> pd.DataFrame:\n",
    "    \"\"\"\n",
    "    对其中的文本进行合并操作,\n",
    "    title: 用于命名csv文件\n",
    "    \"\"\"\n",
    "    user_texts = df.groupby(by='author.username').agg(text=(\"text\", lambda x: \"\\n\".join(set(x))))\n",
    "    user_texts.reset_index(drop=False, inplace=True)\n",
    "    user_texts.to_csv(f\"all_tweet_user[{title}][agg].csv\", index=False)\n",
    "    return user_texts\n",
    "\n",
    "def filter_data(df:pd.DataFrame, title:str, userlist:list) -> pd.DataFrame:\n",
    "    df = filter_data_by_users(df, userlist, title)\n",
    "    df = filter_author_tweet(df)\n",
    "    df = filter_url(df)\n",
    "    df = agg_text(df, title)\n",
    "    return df"
   ]
  },
  {
   "cell_type": "code",
   "execution_count": 4,
   "metadata": {},
   "outputs": [
    {
     "name": "stderr",
     "output_type": "stream",
     "text": [
      "/home/shiqian/miniconda3/envs/py37/lib/python3.7/site-packages/IPython/core/interactiveshell.py:3457: DtypeWarning: Columns (25,27,28,29,31,39,41,42,43,49,65,67,68,69) have mixed types.Specify dtype option on import or set low_memory=False.\n",
      "  exec(code_obj, self.user_global_ns, self.user_ns)\n"
     ]
    },
    {
     "name": "stdout",
     "output_type": "stream",
     "text": [
      "9 10 11 12 13 "
     ]
    },
    {
     "name": "stderr",
     "output_type": "stream",
     "text": [
      "/home/shiqian/miniconda3/envs/py37/lib/python3.7/site-packages/IPython/core/interactiveshell.py:3457: DtypeWarning: Columns (25,27,28,29,31,39,41,42,43,65,67,68,69) have mixed types.Specify dtype option on import or set low_memory=False.\n",
      "  exec(code_obj, self.user_global_ns, self.user_ns)\n"
     ]
    },
    {
     "name": "stdout",
     "output_type": "stream",
     "text": [
      "14 15 16 17 18 "
     ]
    },
    {
     "name": "stderr",
     "output_type": "stream",
     "text": [
      "/home/shiqian/miniconda3/envs/py37/lib/python3.7/site-packages/IPython/core/interactiveshell.py:3457: DtypeWarning: Columns (27,28,29,31,39,41,42,43,49,65,67,68,69) have mixed types.Specify dtype option on import or set low_memory=False.\n",
      "  exec(code_obj, self.user_global_ns, self.user_ns)\n"
     ]
    },
    {
     "name": "stdout",
     "output_type": "stream",
     "text": [
      "19 "
     ]
    },
    {
     "name": "stderr",
     "output_type": "stream",
     "text": [
      "/home/shiqian/miniconda3/envs/py37/lib/python3.7/site-packages/IPython/core/interactiveshell.py:3457: DtypeWarning: Columns (27,28,29,31,39,41,42,43,65,67,68,69,70,71,72,73,74,75,76,77,78) have mixed types.Specify dtype option on import or set low_memory=False.\n",
      "  exec(code_obj, self.user_global_ns, self.user_ns)\n"
     ]
    },
    {
     "name": "stdout",
     "output_type": "stream",
     "text": [
      "20 21 22 23 "
     ]
    },
    {
     "name": "stderr",
     "output_type": "stream",
     "text": [
      "/home/shiqian/miniconda3/envs/py37/lib/python3.7/site-packages/IPython/core/interactiveshell.py:3457: DtypeWarning: Columns (27,31,39,41,42,43,65,67,68,69) have mixed types.Specify dtype option on import or set low_memory=False.\n",
      "  exec(code_obj, self.user_global_ns, self.user_ns)\n"
     ]
    },
    {
     "name": "stdout",
     "output_type": "stream",
     "text": [
      "24 25 26 "
     ]
    },
    {
     "name": "stderr",
     "output_type": "stream",
     "text": [
      "/home/shiqian/miniconda3/envs/py37/lib/python3.7/site-packages/IPython/core/interactiveshell.py:3457: DtypeWarning: Columns (27,28,29,31,39,41,42,43,65,67,68,69) have mixed types.Specify dtype option on import or set low_memory=False.\n",
      "  exec(code_obj, self.user_global_ns, self.user_ns)\n"
     ]
    },
    {
     "name": "stdout",
     "output_type": "stream",
     "text": [
      "27 "
     ]
    }
   ],
   "source": [
    "user_list = high.copy()\n",
    "user_list.extend(low)\n",
    "data_list = []\n",
    "for i in range(9, 27+1):\n",
    "    df_t = pd.read_csv(url+str(i)+'.csv')\n",
    "    df_t = filter_data_by_users(df_t, user_list, 'all')\n",
    "    data_list.append(df_t)\n",
    "    print(i, end=' ')\n",
    "data_list.reverse()\n",
    "df = pd.concat(data_list, axis=0)"
   ]
  },
  {
   "cell_type": "code",
   "execution_count": 5,
   "metadata": {},
   "outputs": [],
   "source": [
    "high_df = filter_data(df, 'top', high)\n",
    "low_df = filter_data(df, 'low', low)"
   ]
  },
  {
   "cell_type": "markdown",
   "metadata": {},
   "source": [
    "# Similarity Calculate"
   ]
  },
  {
   "cell_type": "markdown",
   "metadata": {},
   "source": [
    "## 计算相似度"
   ]
  },
  {
   "cell_type": "code",
   "execution_count": 6,
   "metadata": {},
   "outputs": [
    {
     "name": "stdout",
     "output_type": "stream",
     "text": [
      "True 1\n"
     ]
    }
   ],
   "source": [
    "import os\n",
    "# 为 jupter notebook 设置系统代理\n",
    "# 否则可能无法连接到huggingface\n",
    "proxy = 'http://192.168.50.182:7890'\n",
    "os.environ['http_proxy'] = proxy\n",
    "os.environ['HTTP_PROXY'] = proxy\n",
    "os.environ['https_proxy'] = proxy\n",
    "os.environ['HTTPS_PROXY'] = proxy\n",
    "import pandas as pd\n",
    "import matplotlib.pyplot as plt\n",
    "import torch\n",
    "from tqdm import tqdm\n",
    "# 查看是否有可用的gpu加速, 获取gpu的数量\n",
    "print(torch.cuda.is_available(), torch.cuda.device_count())"
   ]
  },
  {
   "cell_type": "code",
   "execution_count": 7,
   "metadata": {},
   "outputs": [],
   "source": [
    "from sentence_transformers import SentenceTransformer  # https://www.sbert.net/\n",
    "import numpy as np\n",
    "\n",
    "# 使用时会自动下载所需要的模型.  \n",
    "# https://huggingface.co/BAAI/bge-large-en-v1.5\n",
    "model = SentenceTransformer('BAAI/bge-large-en-v1.5', device='cuda')\n",
    "\n",
    "def embedding(texts: 'list[str]') -> np.ndarray:\n",
    "    \"\"\"\n",
    "    embedding获得text的list,\n",
    "    并将每一个text进行embedding操作,\n",
    "    返回每一个text的embedding结果.\n",
    "    \"\"\"\n",
    "    embeddings = model.encode(texts, normalize_embeddings=True)\n",
    "    return embeddings\n",
    "\n",
    "def calculateSimilarity(a:np.ndarray, b:np.ndarray) -> np.ndarray:\n",
    "    \"\"\"\n",
    "    计算两个embedding结果之间的相似度,以ndarray的形式输入,返回一个矩阵,表明其之间的相似度\n",
    "    \"\"\"\n",
    "    return a @ b.T"
   ]
  },
  {
   "cell_type": "code",
   "execution_count": 62,
   "metadata": {},
   "outputs": [
    {
     "name": "stdout",
     "output_type": "stream",
     "text": [
      "[[ 0.01565036  0.03648352  0.01993618 ... -0.00103826 -0.00561562\n",
      "  -0.03185155]\n",
      " [ 0.00716442  0.04983097  0.04704395 ... -0.02127947 -0.0060233\n",
      "  -0.01915274]]\n",
      "[[0.82828635 0.83361506]\n",
      " [0.85577554 0.85415757]]\n"
     ]
    }
   ],
   "source": [
    "# 测试样例.\n",
    "# 在python 3.9.18 版本上能够成功使用. （3.7.16也可以）\n",
    "text1 = ['sample1', 'sample2']\n",
    "text2 = ['sample3', 'sample4']\n",
    "embedding1 = embedding(text1)\n",
    "embedding2 = embedding(text2)\n",
    "print(embedding1)\n",
    "print(embedding1 @ embedding2.T)"
   ]
  },
  {
   "cell_type": "code",
   "execution_count": 8,
   "metadata": {},
   "outputs": [
    {
     "data": {
      "text/plain": [
       "text                                                                                                   \n",
       "muslims spitting on food, hiding in mosques to spread coronavirus? beware of these 8 fake news stories     2593\n",
       "dtype: int64"
      ]
     },
     "execution_count": 8,
     "metadata": {},
     "output_type": "execute_result"
    }
   ],
   "source": [
    "pd.read_csv(\"up_point_messages[all][agg].csv\").value_counts(['text']).head(1)"
   ]
  },
  {
   "cell_type": "code",
   "execution_count": 10,
   "metadata": {},
   "outputs": [
    {
     "data": {
      "text/plain": [
       "text                                                                                                                                                                                                                   \n",
       "new: justice sonia sotomayor said during oral arguments today that “we have over 100,000 children, which we’ve never had before, in serious condition, and many on ventilators” due to the coronavirus. that's false.      2513\n",
       "dtype: int64"
      ]
     },
     "execution_count": 10,
     "metadata": {},
     "output_type": "execute_result"
    }
   ],
   "source": [
    "pd.read_csv(\"low_point_messages[all][agg].csv\").value_counts(['text']).head(1)"
   ]
  },
  {
   "cell_type": "code",
   "execution_count": 11,
   "metadata": {},
   "outputs": [],
   "source": [
    "# 取出top点的text内容\n",
    "# 根据实际内容\n",
    "top_text = \"muslims spitting on food, hiding in mosques to spread coronavirus? beware of these 8 fake news stories\"\n",
    "\n",
    "low_text = \"\"\"\n",
    "new: justice sonia sotomayor said during oral arguments today that “we have over 100,000 children, which we’ve never had before, in serious condition, and many on ventilators” due to the coronavirus. that's false.\n",
    "\"\"\""
   ]
  },
  {
   "cell_type": "code",
   "execution_count": 12,
   "metadata": {},
   "outputs": [],
   "source": [
    "def alltexts_embedding_batches(all_text_path:str, topic:str):\n",
    "    \"\"\"\n",
    "    输入一个user_text的目录,计算其关于topic的相关性大小\n",
    "    \"\"\"\n",
    "    df_all_texts = pd.read_csv(all_text_path)\n",
    "    all_texts = df_all_texts.text.to_list()\n",
    "    names = df_all_texts['author.username'].to_list()\n",
    "    \n",
    "    # 将其拆分为100个子数组\n",
    "    texts_batches = np.array_split(all_texts, 100)\n",
    "    # 为了这个进度条?\n",
    "    texts_batches = tqdm(texts_batches)\n",
    "    all_texts_embedding = []\n",
    "    for batch in texts_batches:\n",
    "        batch_embedding = embedding(batch)\n",
    "        all_texts_embedding += batch_embedding.tolist()\n",
    "\n",
    "    all_texts_embedding = np.array(all_texts_embedding)\n",
    "    topics_embedding = embedding([topic])\n",
    "    similarity = calculateSimilarity(all_texts_embedding,topics_embedding)\n",
    "    return similarity, names"
   ]
  },
  {
   "cell_type": "code",
   "execution_count": 13,
   "metadata": {},
   "outputs": [],
   "source": [
    "def draw_and_calculate(path:str, topic:str, title:str):\n",
    "    \"\"\"\n",
    "    计算并且绘图\n",
    "    \"\"\"\n",
    "    similarity, names= alltexts_embedding_batches(path, topic)\n",
    "    fig = plt.figure(figsize=(10,5))\n",
    "    fig.subplots_adjust(hspace=0.4, wspace=0.4)\n",
    "    bins = [i for i in np.arange(0.3,0.8,0.01)]\n",
    "\n",
    "    for i in range(len(similarity.T)):\n",
    "        ax = fig.add_subplot(1, 1, i+1)\n",
    "        ax.set_title(title)\n",
    "        ax.hist(similarity.T[i], bins)\n",
    "    \n",
    "    return similarity, names"
   ]
  },
  {
   "cell_type": "code",
   "execution_count": 14,
   "metadata": {},
   "outputs": [
    {
     "name": "stderr",
     "output_type": "stream",
     "text": [
      "  0%|          | 0/100 [00:00<?, ?it/s]"
     ]
    },
    {
     "name": "stderr",
     "output_type": "stream",
     "text": [
      "100%|██████████| 100/100 [00:49<00:00,  2.02it/s]\n",
      "100%|██████████| 100/100 [02:01<00:00,  1.22s/it]\n"
     ]
    },
    {
     "data": {
      "image/png": "[encoded data removed]",
      "text/plain": [
       "<Figure size 1000x500 with 1 Axes>"
      ]
     },
     "metadata": {},
     "output_type": "display_data"
    },
    {
     "data": {
      "image/png": "[encoded data removed]",
      "text/plain": [
       "<Figure size 1000x500 with 1 Axes>"
      ]
     },
     "metadata": {},
     "output_type": "display_data"
    }
   ],
   "source": [
    "similarity_top, names_top = draw_and_calculate('all_tweet_user[top][agg].csv',top_text,'top')\n",
    "similarity_low, names_low = draw_and_calculate('all_tweet_user[low][agg].csv',low_text,'low')"
   ]
  },
  {
   "cell_type": "markdown",
   "metadata": {},
   "source": [
    "## 筛去0.5以下的用户\n",
    "similarity 与 用户一一对应"
   ]
  },
  {
   "cell_type": "code",
   "execution_count": 15,
   "metadata": {},
   "outputs": [],
   "source": [
    "def filter_users(similarity, names, min:float) -> list:\n",
    "    \"\"\"\n",
    "    筛选出similarity > min的人群\n",
    "    \"\"\"\n",
    "    ret = []\n",
    "    for i in tqdm(range(len(names))):\n",
    "        if similarity.T[0][i] > min:\n",
    "            ret.append(names[i])\n",
    "    return ret"
   ]
  },
  {
   "cell_type": "code",
   "execution_count": 16,
   "metadata": {},
   "outputs": [
    {
     "name": "stderr",
     "output_type": "stream",
     "text": [
      "100%|██████████| 712/712 [00:00<00:00, 269015.80it/s]\n",
      "100%|██████████| 1375/1375 [00:00<00:00, 313143.73it/s]\n"
     ]
    }
   ],
   "source": [
    "names_top_filter = filter_users(similarity_top,names_top, 0.5)\n",
    "names_low_filter = filter_users(similarity_low,names_low, 0.5)"
   ]
  },
  {
   "cell_type": "code",
   "execution_count": 17,
   "metadata": {},
   "outputs": [
    {
     "name": "stdout",
     "output_type": "stream",
     "text": [
      "1375 938 712 695\n"
     ]
    }
   ],
   "source": [
    "print(len(names_low),len(names_low_filter),len(names_top),len(names_top_filter))"
   ]
  },
  {
   "cell_type": "code",
   "execution_count": 18,
   "metadata": {},
   "outputs": [
    {
     "data": {
      "text/plain": [
       "14.743589743589743"
      ]
     },
     "execution_count": 18,
     "metadata": {},
     "output_type": "execute_result"
    }
   ],
   "source": [
    "# 下面去掉\n",
    "100 * (1375 - 938) / 2964"
   ]
  },
  {
   "cell_type": "code",
   "execution_count": 19,
   "metadata": {},
   "outputs": [
    {
     "data": {
      "text/plain": [
       "0.6193078324225865"
      ]
     },
     "execution_count": 19,
     "metadata": {},
     "output_type": "execute_result"
    }
   ],
   "source": [
    "# 上面去掉\n",
    "100 * (712 - 695) / 2745"
   ]
  }
 ],
 "metadata": {
  "kernelspec": {
   "display_name": "ModelBuild",
   "language": "python",
   "name": "python3"
  },
  "language_info": {
   "codemirror_mode": {
    "name": "ipython",
    "version": 3
   },
   "file_extension": ".py",
   "mimetype": "text/x-python",
   "name": "python",
   "nbconvert_exporter": "python",
   "pygments_lexer": "ipython3",
   "version": "3.7.0"
  }
 },
 "nbformat": 4,
 "nbformat_minor": 2
}
